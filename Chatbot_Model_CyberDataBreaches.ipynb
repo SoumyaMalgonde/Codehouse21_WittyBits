{
  "nbformat": 4,
  "nbformat_minor": 0,
  "metadata": {
    "colab": {
      "name": "final_chat_bot.ipynb",
      "provenance": [],
      "collapsed_sections": []
    },
    "kernelspec": {
      "name": "python3",
      "display_name": "Python 3"
    },
    "language_info": {
      "name": "python"
    },
    "widgets": {
      "application/vnd.jupyter.widget-state+json": {
        "22885fc226774a83a6f31b6e8c80b259": {
          "model_module": "@jupyter-widgets/controls",
          "model_name": "HBoxModel",
          "model_module_version": "1.5.0",
          "state": {
            "_view_name": "HBoxView",
            "_dom_classes": [],
            "_model_name": "HBoxModel",
            "_view_module": "@jupyter-widgets/controls",
            "_model_module_version": "1.5.0",
            "_view_count": null,
            "_view_module_version": "1.5.0",
            "box_style": "",
            "layout": "IPY_MODEL_2f933f5c3e1c415f82c230ad24f1a85b",
            "_model_module": "@jupyter-widgets/controls",
            "children": [
              "IPY_MODEL_7ad16cceb0e444d381534707f7064acc",
              "IPY_MODEL_73e1a78ecf6a45dd8a9b07b4d216821f",
              "IPY_MODEL_e220e787e02344cdb3f30d31848b58a8"
            ]
          }
        },
        "2f933f5c3e1c415f82c230ad24f1a85b": {
          "model_module": "@jupyter-widgets/base",
          "model_name": "LayoutModel",
          "model_module_version": "1.2.0",
          "state": {
            "_view_name": "LayoutView",
            "grid_template_rows": null,
            "right": null,
            "justify_content": null,
            "_view_module": "@jupyter-widgets/base",
            "overflow": null,
            "_model_module_version": "1.2.0",
            "_view_count": null,
            "flex_flow": null,
            "width": null,
            "min_width": null,
            "border": null,
            "align_items": null,
            "bottom": null,
            "_model_module": "@jupyter-widgets/base",
            "top": null,
            "grid_column": null,
            "overflow_y": null,
            "overflow_x": null,
            "grid_auto_flow": null,
            "grid_area": null,
            "grid_template_columns": null,
            "flex": null,
            "_model_name": "LayoutModel",
            "justify_items": null,
            "grid_row": null,
            "max_height": null,
            "align_content": null,
            "visibility": null,
            "align_self": null,
            "height": null,
            "min_height": null,
            "padding": null,
            "grid_auto_rows": null,
            "grid_gap": null,
            "max_width": null,
            "order": null,
            "_view_module_version": "1.2.0",
            "grid_template_areas": null,
            "object_position": null,
            "object_fit": null,
            "grid_auto_columns": null,
            "margin": null,
            "display": null,
            "left": null
          }
        },
        "7ad16cceb0e444d381534707f7064acc": {
          "model_module": "@jupyter-widgets/controls",
          "model_name": "HTMLModel",
          "model_module_version": "1.5.0",
          "state": {
            "_view_name": "HTMLView",
            "style": "IPY_MODEL_dab6e228d2f847d1988f0034d1c57480",
            "_dom_classes": [],
            "description": "",
            "_model_name": "HTMLModel",
            "placeholder": "​",
            "_view_module": "@jupyter-widgets/controls",
            "_model_module_version": "1.5.0",
            "value": "Downloading: 100%",
            "_view_count": null,
            "_view_module_version": "1.5.0",
            "description_tooltip": null,
            "_model_module": "@jupyter-widgets/controls",
            "layout": "IPY_MODEL_9114e28740e6439eaaf19ee83db1c133"
          }
        },
        "73e1a78ecf6a45dd8a9b07b4d216821f": {
          "model_module": "@jupyter-widgets/controls",
          "model_name": "FloatProgressModel",
          "model_module_version": "1.5.0",
          "state": {
            "_view_name": "ProgressView",
            "style": "IPY_MODEL_626d5d1420cd47ac8d7464fec825e6a7",
            "_dom_classes": [],
            "description": "",
            "_model_name": "FloatProgressModel",
            "bar_style": "success",
            "max": 443,
            "_view_module": "@jupyter-widgets/controls",
            "_model_module_version": "1.5.0",
            "value": 443,
            "_view_count": null,
            "_view_module_version": "1.5.0",
            "orientation": "horizontal",
            "min": 0,
            "description_tooltip": null,
            "_model_module": "@jupyter-widgets/controls",
            "layout": "IPY_MODEL_5aff188e169c4f8cbcb9efbdbc6cce67"
          }
        },
        "e220e787e02344cdb3f30d31848b58a8": {
          "model_module": "@jupyter-widgets/controls",
          "model_name": "HTMLModel",
          "model_module_version": "1.5.0",
          "state": {
            "_view_name": "HTMLView",
            "style": "IPY_MODEL_1fc3fb1f435d4fc7a1fdf663b5dcce87",
            "_dom_classes": [],
            "description": "",
            "_model_name": "HTMLModel",
            "placeholder": "​",
            "_view_module": "@jupyter-widgets/controls",
            "_model_module_version": "1.5.0",
            "value": " 443/443 [00:00&lt;00:00, 11.9kB/s]",
            "_view_count": null,
            "_view_module_version": "1.5.0",
            "description_tooltip": null,
            "_model_module": "@jupyter-widgets/controls",
            "layout": "IPY_MODEL_20dc080494134c65bb87b087a1a059aa"
          }
        },
        "dab6e228d2f847d1988f0034d1c57480": {
          "model_module": "@jupyter-widgets/controls",
          "model_name": "DescriptionStyleModel",
          "model_module_version": "1.5.0",
          "state": {
            "_view_name": "StyleView",
            "_model_name": "DescriptionStyleModel",
            "description_width": "",
            "_view_module": "@jupyter-widgets/base",
            "_model_module_version": "1.5.0",
            "_view_count": null,
            "_view_module_version": "1.2.0",
            "_model_module": "@jupyter-widgets/controls"
          }
        },
        "9114e28740e6439eaaf19ee83db1c133": {
          "model_module": "@jupyter-widgets/base",
          "model_name": "LayoutModel",
          "model_module_version": "1.2.0",
          "state": {
            "_view_name": "LayoutView",
            "grid_template_rows": null,
            "right": null,
            "justify_content": null,
            "_view_module": "@jupyter-widgets/base",
            "overflow": null,
            "_model_module_version": "1.2.0",
            "_view_count": null,
            "flex_flow": null,
            "width": null,
            "min_width": null,
            "border": null,
            "align_items": null,
            "bottom": null,
            "_model_module": "@jupyter-widgets/base",
            "top": null,
            "grid_column": null,
            "overflow_y": null,
            "overflow_x": null,
            "grid_auto_flow": null,
            "grid_area": null,
            "grid_template_columns": null,
            "flex": null,
            "_model_name": "LayoutModel",
            "justify_items": null,
            "grid_row": null,
            "max_height": null,
            "align_content": null,
            "visibility": null,
            "align_self": null,
            "height": null,
            "min_height": null,
            "padding": null,
            "grid_auto_rows": null,
            "grid_gap": null,
            "max_width": null,
            "order": null,
            "_view_module_version": "1.2.0",
            "grid_template_areas": null,
            "object_position": null,
            "object_fit": null,
            "grid_auto_columns": null,
            "margin": null,
            "display": null,
            "left": null
          }
        },
        "626d5d1420cd47ac8d7464fec825e6a7": {
          "model_module": "@jupyter-widgets/controls",
          "model_name": "ProgressStyleModel",
          "model_module_version": "1.5.0",
          "state": {
            "_view_name": "StyleView",
            "_model_name": "ProgressStyleModel",
            "description_width": "",
            "_view_module": "@jupyter-widgets/base",
            "_model_module_version": "1.5.0",
            "_view_count": null,
            "_view_module_version": "1.2.0",
            "bar_color": null,
            "_model_module": "@jupyter-widgets/controls"
          }
        },
        "5aff188e169c4f8cbcb9efbdbc6cce67": {
          "model_module": "@jupyter-widgets/base",
          "model_name": "LayoutModel",
          "model_module_version": "1.2.0",
          "state": {
            "_view_name": "LayoutView",
            "grid_template_rows": null,
            "right": null,
            "justify_content": null,
            "_view_module": "@jupyter-widgets/base",
            "overflow": null,
            "_model_module_version": "1.2.0",
            "_view_count": null,
            "flex_flow": null,
            "width": null,
            "min_width": null,
            "border": null,
            "align_items": null,
            "bottom": null,
            "_model_module": "@jupyter-widgets/base",
            "top": null,
            "grid_column": null,
            "overflow_y": null,
            "overflow_x": null,
            "grid_auto_flow": null,
            "grid_area": null,
            "grid_template_columns": null,
            "flex": null,
            "_model_name": "LayoutModel",
            "justify_items": null,
            "grid_row": null,
            "max_height": null,
            "align_content": null,
            "visibility": null,
            "align_self": null,
            "height": null,
            "min_height": null,
            "padding": null,
            "grid_auto_rows": null,
            "grid_gap": null,
            "max_width": null,
            "order": null,
            "_view_module_version": "1.2.0",
            "grid_template_areas": null,
            "object_position": null,
            "object_fit": null,
            "grid_auto_columns": null,
            "margin": null,
            "display": null,
            "left": null
          }
        },
        "1fc3fb1f435d4fc7a1fdf663b5dcce87": {
          "model_module": "@jupyter-widgets/controls",
          "model_name": "DescriptionStyleModel",
          "model_module_version": "1.5.0",
          "state": {
            "_view_name": "StyleView",
            "_model_name": "DescriptionStyleModel",
            "description_width": "",
            "_view_module": "@jupyter-widgets/base",
            "_model_module_version": "1.5.0",
            "_view_count": null,
            "_view_module_version": "1.2.0",
            "_model_module": "@jupyter-widgets/controls"
          }
        },
        "20dc080494134c65bb87b087a1a059aa": {
          "model_module": "@jupyter-widgets/base",
          "model_name": "LayoutModel",
          "model_module_version": "1.2.0",
          "state": {
            "_view_name": "LayoutView",
            "grid_template_rows": null,
            "right": null,
            "justify_content": null,
            "_view_module": "@jupyter-widgets/base",
            "overflow": null,
            "_model_module_version": "1.2.0",
            "_view_count": null,
            "flex_flow": null,
            "width": null,
            "min_width": null,
            "border": null,
            "align_items": null,
            "bottom": null,
            "_model_module": "@jupyter-widgets/base",
            "top": null,
            "grid_column": null,
            "overflow_y": null,
            "overflow_x": null,
            "grid_auto_flow": null,
            "grid_area": null,
            "grid_template_columns": null,
            "flex": null,
            "_model_name": "LayoutModel",
            "justify_items": null,
            "grid_row": null,
            "max_height": null,
            "align_content": null,
            "visibility": null,
            "align_self": null,
            "height": null,
            "min_height": null,
            "padding": null,
            "grid_auto_rows": null,
            "grid_gap": null,
            "max_width": null,
            "order": null,
            "_view_module_version": "1.2.0",
            "grid_template_areas": null,
            "object_position": null,
            "object_fit": null,
            "grid_auto_columns": null,
            "margin": null,
            "display": null,
            "left": null
          }
        }
      }
    }
  },
  "cells": [
    {
      "cell_type": "markdown",
      "metadata": {
        "id": "lSBWIKcERB_b"
      },
      "source": [
        "# Installing libraries and importing modules"
      ]
    },
    {
      "cell_type": "code",
      "metadata": {
        "id": "EzsrFMqEBGIk",
        "colab": {
          "base_uri": "https://localhost:8080/"
        },
        "outputId": "427c472d-3235-4592-811c-d2131a52ac73"
      },
      "source": [
        "!pip3 install newspaper3k\n",
        "!pip3 install transformers\n",
        "from newspaper import Article"
      ],
      "execution_count": null,
      "outputs": [
        {
          "output_type": "stream",
          "name": "stdout",
          "text": [
            "Collecting newspaper3k\n",
            "  Downloading newspaper3k-0.2.8-py3-none-any.whl (211 kB)\n",
            "\u001b[?25l\r\u001b[K     |█▌                              | 10 kB 28.6 MB/s eta 0:00:01\r\u001b[K     |███                             | 20 kB 36.6 MB/s eta 0:00:01\r\u001b[K     |████▋                           | 30 kB 44.0 MB/s eta 0:00:01\r\u001b[K     |██████▏                         | 40 kB 33.3 MB/s eta 0:00:01\r\u001b[K     |███████▊                        | 51 kB 14.8 MB/s eta 0:00:01\r\u001b[K     |█████████▎                      | 61 kB 17.1 MB/s eta 0:00:01\r\u001b[K     |██████████▉                     | 71 kB 13.7 MB/s eta 0:00:01\r\u001b[K     |████████████▍                   | 81 kB 15.1 MB/s eta 0:00:01\r\u001b[K     |██████████████                  | 92 kB 16.6 MB/s eta 0:00:01\r\u001b[K     |███████████████▌                | 102 kB 13.5 MB/s eta 0:00:01\r\u001b[K     |█████████████████               | 112 kB 13.5 MB/s eta 0:00:01\r\u001b[K     |██████████████████▋             | 122 kB 13.5 MB/s eta 0:00:01\r\u001b[K     |████████████████████▏           | 133 kB 13.5 MB/s eta 0:00:01\r\u001b[K     |█████████████████████▊          | 143 kB 13.5 MB/s eta 0:00:01\r\u001b[K     |███████████████████████▎        | 153 kB 13.5 MB/s eta 0:00:01\r\u001b[K     |████████████████████████▉       | 163 kB 13.5 MB/s eta 0:00:01\r\u001b[K     |██████████████████████████▍     | 174 kB 13.5 MB/s eta 0:00:01\r\u001b[K     |████████████████████████████    | 184 kB 13.5 MB/s eta 0:00:01\r\u001b[K     |█████████████████████████████▌  | 194 kB 13.5 MB/s eta 0:00:01\r\u001b[K     |███████████████████████████████ | 204 kB 13.5 MB/s eta 0:00:01\r\u001b[K     |████████████████████████████████| 211 kB 13.5 MB/s \n",
            "\u001b[?25hRequirement already satisfied: python-dateutil>=2.5.3 in /usr/local/lib/python3.7/dist-packages (from newspaper3k) (2.8.2)\n",
            "Collecting feedfinder2>=0.0.4\n",
            "  Downloading feedfinder2-0.0.4.tar.gz (3.3 kB)\n",
            "Requirement already satisfied: requests>=2.10.0 in /usr/local/lib/python3.7/dist-packages (from newspaper3k) (2.23.0)\n",
            "Requirement already satisfied: lxml>=3.6.0 in /usr/local/lib/python3.7/dist-packages (from newspaper3k) (4.2.6)\n",
            "Requirement already satisfied: PyYAML>=3.11 in /usr/local/lib/python3.7/dist-packages (from newspaper3k) (3.13)\n",
            "Requirement already satisfied: beautifulsoup4>=4.4.1 in /usr/local/lib/python3.7/dist-packages (from newspaper3k) (4.6.3)\n",
            "Requirement already satisfied: Pillow>=3.3.0 in /usr/local/lib/python3.7/dist-packages (from newspaper3k) (7.1.2)\n",
            "Requirement already satisfied: nltk>=3.2.1 in /usr/local/lib/python3.7/dist-packages (from newspaper3k) (3.2.5)\n",
            "Collecting tldextract>=2.0.1\n",
            "  Downloading tldextract-3.1.2-py2.py3-none-any.whl (87 kB)\n",
            "\u001b[K     |████████████████████████████████| 87 kB 5.5 MB/s \n",
            "\u001b[?25hCollecting feedparser>=5.2.1\n",
            "  Downloading feedparser-6.0.8-py3-none-any.whl (81 kB)\n",
            "\u001b[K     |████████████████████████████████| 81 kB 8.4 MB/s \n",
            "\u001b[?25hCollecting tinysegmenter==0.3\n",
            "  Downloading tinysegmenter-0.3.tar.gz (16 kB)\n",
            "Collecting jieba3k>=0.35.1\n",
            "  Downloading jieba3k-0.35.1.zip (7.4 MB)\n",
            "\u001b[K     |████████████████████████████████| 7.4 MB 62.8 MB/s \n",
            "\u001b[?25hCollecting cssselect>=0.9.2\n",
            "  Downloading cssselect-1.1.0-py2.py3-none-any.whl (16 kB)\n",
            "Requirement already satisfied: six in /usr/local/lib/python3.7/dist-packages (from feedfinder2>=0.0.4->newspaper3k) (1.15.0)\n",
            "Collecting sgmllib3k\n",
            "  Downloading sgmllib3k-1.0.0.tar.gz (5.8 kB)\n",
            "Requirement already satisfied: certifi>=2017.4.17 in /usr/local/lib/python3.7/dist-packages (from requests>=2.10.0->newspaper3k) (2021.5.30)\n",
            "Requirement already satisfied: idna<3,>=2.5 in /usr/local/lib/python3.7/dist-packages (from requests>=2.10.0->newspaper3k) (2.10)\n",
            "Requirement already satisfied: chardet<4,>=3.0.2 in /usr/local/lib/python3.7/dist-packages (from requests>=2.10.0->newspaper3k) (3.0.4)\n",
            "Requirement already satisfied: urllib3!=1.25.0,!=1.25.1,<1.26,>=1.21.1 in /usr/local/lib/python3.7/dist-packages (from requests>=2.10.0->newspaper3k) (1.24.3)\n",
            "Requirement already satisfied: filelock>=3.0.8 in /usr/local/lib/python3.7/dist-packages (from tldextract>=2.0.1->newspaper3k) (3.3.0)\n",
            "Collecting requests-file>=1.4\n",
            "  Downloading requests_file-1.5.1-py2.py3-none-any.whl (3.7 kB)\n",
            "Building wheels for collected packages: tinysegmenter, feedfinder2, jieba3k, sgmllib3k\n",
            "  Building wheel for tinysegmenter (setup.py) ... \u001b[?25l\u001b[?25hdone\n",
            "  Created wheel for tinysegmenter: filename=tinysegmenter-0.3-py3-none-any.whl size=13552 sha256=e919c5c25a5f82df1f0e5f28dadd88c617089b1253cf58d7b985b2858771e48e\n",
            "  Stored in directory: /root/.cache/pip/wheels/df/67/41/faca10fa501ca010be41b49d40360c2959e1c4f09bcbfa37fa\n",
            "  Building wheel for feedfinder2 (setup.py) ... \u001b[?25l\u001b[?25hdone\n",
            "  Created wheel for feedfinder2: filename=feedfinder2-0.0.4-py3-none-any.whl size=3356 sha256=ddabc2a56bb38b7ca31c4c3b4623e8a115d45c97f39923ca0a03761b14d12685\n",
            "  Stored in directory: /root/.cache/pip/wheels/7f/d4/8f/6e2ca54744c9d7292d88ddb8d42876bcdab5e6d84a21c10346\n",
            "  Building wheel for jieba3k (setup.py) ... \u001b[?25l\u001b[?25hdone\n",
            "  Created wheel for jieba3k: filename=jieba3k-0.35.1-py3-none-any.whl size=7398405 sha256=71104c8b27c723274d479b4692488a433db654d70934888c7b279bf60da59894\n",
            "  Stored in directory: /root/.cache/pip/wheels/4c/91/46/3c208287b726df325a5979574324878b679116e4baae1af3c3\n",
            "  Building wheel for sgmllib3k (setup.py) ... \u001b[?25l\u001b[?25hdone\n",
            "  Created wheel for sgmllib3k: filename=sgmllib3k-1.0.0-py3-none-any.whl size=6065 sha256=2d29bcb4225e43d618bd1e6af3064fa818954f35869b26bc460edc8377b1d0b5\n",
            "  Stored in directory: /root/.cache/pip/wheels/73/ad/a4/0dff4a6ef231fc0dfa12ffbac2a36cebfdddfe059f50e019aa\n",
            "Successfully built tinysegmenter feedfinder2 jieba3k sgmllib3k\n",
            "Installing collected packages: sgmllib3k, requests-file, tldextract, tinysegmenter, jieba3k, feedparser, feedfinder2, cssselect, newspaper3k\n",
            "Successfully installed cssselect-1.1.0 feedfinder2-0.0.4 feedparser-6.0.8 jieba3k-0.35.1 newspaper3k-0.2.8 requests-file-1.5.1 sgmllib3k-1.0.0 tinysegmenter-0.3 tldextract-3.1.2\n",
            "Collecting transformers\n",
            "  Downloading transformers-4.11.3-py3-none-any.whl (2.9 MB)\n",
            "\u001b[K     |████████████████████████████████| 2.9 MB 14.6 MB/s \n",
            "\u001b[?25hRequirement already satisfied: tqdm>=4.27 in /usr/local/lib/python3.7/dist-packages (from transformers) (4.62.3)\n",
            "Requirement already satisfied: filelock in /usr/local/lib/python3.7/dist-packages (from transformers) (3.3.0)\n",
            "Requirement already satisfied: numpy>=1.17 in /usr/local/lib/python3.7/dist-packages (from transformers) (1.19.5)\n",
            "Collecting sacremoses\n",
            "  Downloading sacremoses-0.0.46-py3-none-any.whl (895 kB)\n",
            "\u001b[K     |████████████████████████████████| 895 kB 61.3 MB/s \n",
            "\u001b[?25hRequirement already satisfied: regex!=2019.12.17 in /usr/local/lib/python3.7/dist-packages (from transformers) (2019.12.20)\n",
            "Collecting tokenizers<0.11,>=0.10.1\n",
            "  Downloading tokenizers-0.10.3-cp37-cp37m-manylinux_2_5_x86_64.manylinux1_x86_64.manylinux_2_12_x86_64.manylinux2010_x86_64.whl (3.3 MB)\n",
            "\u001b[K     |████████████████████████████████| 3.3 MB 45.3 MB/s \n",
            "\u001b[?25hCollecting huggingface-hub>=0.0.17\n",
            "  Downloading huggingface_hub-0.0.19-py3-none-any.whl (56 kB)\n",
            "\u001b[K     |████████████████████████████████| 56 kB 4.0 MB/s \n",
            "\u001b[?25hRequirement already satisfied: importlib-metadata in /usr/local/lib/python3.7/dist-packages (from transformers) (4.8.1)\n",
            "Requirement already satisfied: packaging>=20.0 in /usr/local/lib/python3.7/dist-packages (from transformers) (21.0)\n",
            "Collecting pyyaml>=5.1\n",
            "  Downloading PyYAML-5.4.1-cp37-cp37m-manylinux1_x86_64.whl (636 kB)\n",
            "\u001b[K     |████████████████████████████████| 636 kB 65.8 MB/s \n",
            "\u001b[?25hRequirement already satisfied: requests in /usr/local/lib/python3.7/dist-packages (from transformers) (2.23.0)\n",
            "Requirement already satisfied: typing-extensions in /usr/local/lib/python3.7/dist-packages (from huggingface-hub>=0.0.17->transformers) (3.7.4.3)\n",
            "Requirement already satisfied: pyparsing>=2.0.2 in /usr/local/lib/python3.7/dist-packages (from packaging>=20.0->transformers) (2.4.7)\n",
            "Requirement already satisfied: zipp>=0.5 in /usr/local/lib/python3.7/dist-packages (from importlib-metadata->transformers) (3.6.0)\n",
            "Requirement already satisfied: chardet<4,>=3.0.2 in /usr/local/lib/python3.7/dist-packages (from requests->transformers) (3.0.4)\n",
            "Requirement already satisfied: urllib3!=1.25.0,!=1.25.1,<1.26,>=1.21.1 in /usr/local/lib/python3.7/dist-packages (from requests->transformers) (1.24.3)\n",
            "Requirement already satisfied: certifi>=2017.4.17 in /usr/local/lib/python3.7/dist-packages (from requests->transformers) (2021.5.30)\n",
            "Requirement already satisfied: idna<3,>=2.5 in /usr/local/lib/python3.7/dist-packages (from requests->transformers) (2.10)\n",
            "Requirement already satisfied: joblib in /usr/local/lib/python3.7/dist-packages (from sacremoses->transformers) (1.0.1)\n",
            "Requirement already satisfied: six in /usr/local/lib/python3.7/dist-packages (from sacremoses->transformers) (1.15.0)\n",
            "Requirement already satisfied: click in /usr/local/lib/python3.7/dist-packages (from sacremoses->transformers) (7.1.2)\n",
            "Installing collected packages: pyyaml, tokenizers, sacremoses, huggingface-hub, transformers\n",
            "  Attempting uninstall: pyyaml\n",
            "    Found existing installation: PyYAML 3.13\n",
            "    Uninstalling PyYAML-3.13:\n",
            "      Successfully uninstalled PyYAML-3.13\n",
            "Successfully installed huggingface-hub-0.0.19 pyyaml-5.4.1 sacremoses-0.0.46 tokenizers-0.10.3 transformers-4.11.3\n"
          ]
        }
      ]
    },
    {
      "cell_type": "code",
      "metadata": {
        "id": "TkH_TXK9ENq_"
      },
      "source": [
        "import torch\n",
        "from transformers import BertForQuestionAnswering\n",
        "from transformers import BertTokenizer"
      ],
      "execution_count": null,
      "outputs": []
    },
    {
      "cell_type": "code",
      "metadata": {
        "id": "zx2a0mPOB-DA"
      },
      "source": [
        "import pandas as pd\n",
        "import re\n",
        "import tensorflow as tf\n",
        "import tensorflow_hub as hub\n",
        "import nltk\n",
        "import numpy as np"
      ],
      "execution_count": null,
      "outputs": []
    },
    {
      "cell_type": "code",
      "metadata": {
        "colab": {
          "base_uri": "https://localhost:8080/"
        },
        "id": "A-ZQpi2MDOhH",
        "outputId": "45a3e79d-1c59-43af-a5de-ae376f74b6c2"
      },
      "source": [
        "!pip install \"tensorflow_hub>=0.6.0\"\n",
        "!pip install \"tensorflow>=2.0.0\""
      ],
      "execution_count": null,
      "outputs": [
        {
          "output_type": "stream",
          "name": "stdout",
          "text": [
            "Requirement already satisfied: tensorflow_hub>=0.6.0 in /usr/local/lib/python3.7/dist-packages (0.12.0)\n",
            "Requirement already satisfied: numpy>=1.12.0 in /usr/local/lib/python3.7/dist-packages (from tensorflow_hub>=0.6.0) (1.19.5)\n",
            "Requirement already satisfied: protobuf>=3.8.0 in /usr/local/lib/python3.7/dist-packages (from tensorflow_hub>=0.6.0) (3.17.3)\n",
            "Requirement already satisfied: six>=1.9 in /usr/local/lib/python3.7/dist-packages (from protobuf>=3.8.0->tensorflow_hub>=0.6.0) (1.15.0)\n",
            "Requirement already satisfied: tensorflow>=2.0.0 in /usr/local/lib/python3.7/dist-packages (2.6.0)\n",
            "Requirement already satisfied: clang~=5.0 in /usr/local/lib/python3.7/dist-packages (from tensorflow>=2.0.0) (5.0)\n",
            "Requirement already satisfied: tensorboard~=2.6 in /usr/local/lib/python3.7/dist-packages (from tensorflow>=2.0.0) (2.6.0)\n",
            "Requirement already satisfied: astunparse~=1.6.3 in /usr/local/lib/python3.7/dist-packages (from tensorflow>=2.0.0) (1.6.3)\n",
            "Requirement already satisfied: keras~=2.6 in /usr/local/lib/python3.7/dist-packages (from tensorflow>=2.0.0) (2.6.0)\n",
            "Requirement already satisfied: opt-einsum~=3.3.0 in /usr/local/lib/python3.7/dist-packages (from tensorflow>=2.0.0) (3.3.0)\n",
            "Requirement already satisfied: gast==0.4.0 in /usr/local/lib/python3.7/dist-packages (from tensorflow>=2.0.0) (0.4.0)\n",
            "Requirement already satisfied: numpy~=1.19.2 in /usr/local/lib/python3.7/dist-packages (from tensorflow>=2.0.0) (1.19.5)\n",
            "Requirement already satisfied: wheel~=0.35 in /usr/local/lib/python3.7/dist-packages (from tensorflow>=2.0.0) (0.37.0)\n",
            "Requirement already satisfied: keras-preprocessing~=1.1.2 in /usr/local/lib/python3.7/dist-packages (from tensorflow>=2.0.0) (1.1.2)\n",
            "Requirement already satisfied: absl-py~=0.10 in /usr/local/lib/python3.7/dist-packages (from tensorflow>=2.0.0) (0.12.0)\n",
            "Requirement already satisfied: six~=1.15.0 in /usr/local/lib/python3.7/dist-packages (from tensorflow>=2.0.0) (1.15.0)\n",
            "Requirement already satisfied: wrapt~=1.12.1 in /usr/local/lib/python3.7/dist-packages (from tensorflow>=2.0.0) (1.12.1)\n",
            "Requirement already satisfied: grpcio<2.0,>=1.37.0 in /usr/local/lib/python3.7/dist-packages (from tensorflow>=2.0.0) (1.41.0)\n",
            "Requirement already satisfied: google-pasta~=0.2 in /usr/local/lib/python3.7/dist-packages (from tensorflow>=2.0.0) (0.2.0)\n",
            "Requirement already satisfied: protobuf>=3.9.2 in /usr/local/lib/python3.7/dist-packages (from tensorflow>=2.0.0) (3.17.3)\n",
            "Requirement already satisfied: flatbuffers~=1.12.0 in /usr/local/lib/python3.7/dist-packages (from tensorflow>=2.0.0) (1.12)\n",
            "Requirement already satisfied: h5py~=3.1.0 in /usr/local/lib/python3.7/dist-packages (from tensorflow>=2.0.0) (3.1.0)\n",
            "Requirement already satisfied: tensorflow-estimator~=2.6 in /usr/local/lib/python3.7/dist-packages (from tensorflow>=2.0.0) (2.6.0)\n",
            "Requirement already satisfied: termcolor~=1.1.0 in /usr/local/lib/python3.7/dist-packages (from tensorflow>=2.0.0) (1.1.0)\n",
            "Requirement already satisfied: typing-extensions~=3.7.4 in /usr/local/lib/python3.7/dist-packages (from tensorflow>=2.0.0) (3.7.4.3)\n",
            "Requirement already satisfied: cached-property in /usr/local/lib/python3.7/dist-packages (from h5py~=3.1.0->tensorflow>=2.0.0) (1.5.2)\n",
            "Requirement already satisfied: google-auth<2,>=1.6.3 in /usr/local/lib/python3.7/dist-packages (from tensorboard~=2.6->tensorflow>=2.0.0) (1.35.0)\n",
            "Requirement already satisfied: google-auth-oauthlib<0.5,>=0.4.1 in /usr/local/lib/python3.7/dist-packages (from tensorboard~=2.6->tensorflow>=2.0.0) (0.4.6)\n",
            "Requirement already satisfied: requests<3,>=2.21.0 in /usr/local/lib/python3.7/dist-packages (from tensorboard~=2.6->tensorflow>=2.0.0) (2.23.0)\n",
            "Requirement already satisfied: tensorboard-data-server<0.7.0,>=0.6.0 in /usr/local/lib/python3.7/dist-packages (from tensorboard~=2.6->tensorflow>=2.0.0) (0.6.1)\n",
            "Requirement already satisfied: werkzeug>=0.11.15 in /usr/local/lib/python3.7/dist-packages (from tensorboard~=2.6->tensorflow>=2.0.0) (1.0.1)\n",
            "Requirement already satisfied: setuptools>=41.0.0 in /usr/local/lib/python3.7/dist-packages (from tensorboard~=2.6->tensorflow>=2.0.0) (57.4.0)\n",
            "Requirement already satisfied: markdown>=2.6.8 in /usr/local/lib/python3.7/dist-packages (from tensorboard~=2.6->tensorflow>=2.0.0) (3.3.4)\n",
            "Requirement already satisfied: tensorboard-plugin-wit>=1.6.0 in /usr/local/lib/python3.7/dist-packages (from tensorboard~=2.6->tensorflow>=2.0.0) (1.8.0)\n",
            "Requirement already satisfied: pyasn1-modules>=0.2.1 in /usr/local/lib/python3.7/dist-packages (from google-auth<2,>=1.6.3->tensorboard~=2.6->tensorflow>=2.0.0) (0.2.8)\n",
            "Requirement already satisfied: cachetools<5.0,>=2.0.0 in /usr/local/lib/python3.7/dist-packages (from google-auth<2,>=1.6.3->tensorboard~=2.6->tensorflow>=2.0.0) (4.2.4)\n",
            "Requirement already satisfied: rsa<5,>=3.1.4 in /usr/local/lib/python3.7/dist-packages (from google-auth<2,>=1.6.3->tensorboard~=2.6->tensorflow>=2.0.0) (4.7.2)\n",
            "Requirement already satisfied: requests-oauthlib>=0.7.0 in /usr/local/lib/python3.7/dist-packages (from google-auth-oauthlib<0.5,>=0.4.1->tensorboard~=2.6->tensorflow>=2.0.0) (1.3.0)\n",
            "Requirement already satisfied: importlib-metadata in /usr/local/lib/python3.7/dist-packages (from markdown>=2.6.8->tensorboard~=2.6->tensorflow>=2.0.0) (4.8.1)\n",
            "Requirement already satisfied: pyasn1<0.5.0,>=0.4.6 in /usr/local/lib/python3.7/dist-packages (from pyasn1-modules>=0.2.1->google-auth<2,>=1.6.3->tensorboard~=2.6->tensorflow>=2.0.0) (0.4.8)\n",
            "Requirement already satisfied: certifi>=2017.4.17 in /usr/local/lib/python3.7/dist-packages (from requests<3,>=2.21.0->tensorboard~=2.6->tensorflow>=2.0.0) (2021.5.30)\n",
            "Requirement already satisfied: urllib3!=1.25.0,!=1.25.1,<1.26,>=1.21.1 in /usr/local/lib/python3.7/dist-packages (from requests<3,>=2.21.0->tensorboard~=2.6->tensorflow>=2.0.0) (1.24.3)\n",
            "Requirement already satisfied: idna<3,>=2.5 in /usr/local/lib/python3.7/dist-packages (from requests<3,>=2.21.0->tensorboard~=2.6->tensorflow>=2.0.0) (2.10)\n",
            "Requirement already satisfied: chardet<4,>=3.0.2 in /usr/local/lib/python3.7/dist-packages (from requests<3,>=2.21.0->tensorboard~=2.6->tensorflow>=2.0.0) (3.0.4)\n",
            "Requirement already satisfied: oauthlib>=3.0.0 in /usr/local/lib/python3.7/dist-packages (from requests-oauthlib>=0.7.0->google-auth-oauthlib<0.5,>=0.4.1->tensorboard~=2.6->tensorflow>=2.0.0) (3.1.1)\n",
            "Requirement already satisfied: zipp>=0.5 in /usr/local/lib/python3.7/dist-packages (from importlib-metadata->markdown>=2.6.8->tensorboard~=2.6->tensorflow>=2.0.0) (3.6.0)\n"
          ]
        }
      ]
    },
    {
      "cell_type": "markdown",
      "metadata": {
        "id": "y5xdfOjIRJXj"
      },
      "source": [
        "# Scraping Data"
      ]
    },
    {
      "cell_type": "code",
      "metadata": {
        "id": "B0i80xNdNUK0"
      },
      "source": [
        "# used MediaWiki API (https://en.wikipedia.org/w/api.php?action=parse&page=List_of_data_breaches&prop=externallinks) \n",
        "# to extract the required links from https://en.m.wikipedia.org/wiki/List_of_data_breaches\n",
        "\n",
        "\n",
        "links = [\"http://news.cuna.org/articles/105948-data-breach-costs-will-soar-to-2t-juniper\",\n",
        "            \"https://thecitizenng.com/analysis-data-breaches-compromised-4-5bn-records-in-half-year-2018-gemalto/\",\n",
        "            \"https://thecitizenng.com\",\n",
        "            \"https://gizmodo.com/mother-of-all-breaches-exposes-773-million-emails-21-m-1831833456\",\n",
        "            \"http://cbs12.com/news/local/21st-century-oncology-notifies-22-million-of-hacking-data-breach\",\n",
        "            \"http://www.natlawreview.com/article/oh-no-not-again-chalk-yet-another-health-data-breach\",\n",
        "            \"https://www.theregister.co.uk/2019/02/11/620_million_hacked_accounts_dark_web/\",\n",
        "            \"https://www.prnewswire.com/news-releases/accendo-insurance-company-addresses-patient-information-issue-124488298.html\",\n",
        "            \"http://www.databreaches.net/rxamerica-and-accendo-insurance-notify-175000-medicare-beneficiaries-that-mailing-error-exposed-their-medication-name-date-of-birth-and-member-id/\",\n",
        "            \"https://www.theverge.com/2013/11/7/5078560/over-150-million-breached-records-from-adobe-hack-surface-online\",\n",
        "            \"https://www.comparitech.com/blog/information-security/7-million-adobe-creative-cloud-accounts-exposed-to-the-public/\",\n",
        "            \"https://www.zdnet.com/article/adobe-admits-2-9m-customer-accounts-have-been-compromised/\",\n",
        "            \"http://healthitsecurity.com/2013/08/27/advocate-medical-group-endures-massive-data-breach/\",\n",
        "            \"http://healthitsecurity.com/news/advocate-medical-group-endures-massive-data-breach\",\n",
        "            \"https://justice.oregon.gov/consumer/DataBreach/Home/Details/2099829533\",\n",
        "            \"https://www.hhs.gov/about/news/2013/08/14/hhs-settles-with-health-plan-in-photocopier-breach-case.html\",\n",
        "            \"https://www.databreachtoday.com/12-million-penalty-in-copier-breach-a-5991\",\n",
        "            \"https://www.bbc.com/news/world-asia-india-50641608\",\n",
        "            \"https://globalnews.ca/news/4415993/air-canada-mobile-app-data-breach/\",\n",
        "            \"https://japan.cnet.com/article/35143123/\",\n",
        "            \"https://www.itmedia.co.jp/news/articles/1909/26/news104.html\",\n",
        "            \"http://www.nbcnews.com/id/7561268/ns/technology_and_science-security/t/ameritrade-warns-clients-lost-data/\",\n",
        "            \"https://blogs.ancestry.com/ancestry/2017/12/23/rootsweb-security-update/\",\n",
        "            \"https://techcrunch.com/2020/11/16/animal-jam-data-breach/\",\n",
        "            \"http://www.phiprivacy.net/?p=5743\",\n",
        "            \"https://web.archive.org/web/20170211220237/https://www.anthemfacts.com/faq\",\n",
        "            \"http://www.anthemfacts.com/faq\",\n",
        "            \"http://www.databreach-settlement.com/\",\n",
        "            \"https://money.cnn.com/2004/06/23/technology/aol_spam/\",\n",
        "            \"https://www.nbcnews.com/id/8985989\",\n",
        "            \"https://techcrunch.com/2006/08/06/aol-proudly-releases-massive-amounts-of-user-search-data/\",\n",
        "            \"http://blog.aol.com/2014/04/28/aol-security-update/\",\n",
        "            \"https://www.cnet.com/news/udid-leak-source-idd-bluetoad-mobile-firm-says-it-was-hacked/\",\n",
        "            \"https://www.theguardian.com/technology/2013/jul/22/apple-developer-site-hacked\",\n",
        "            \"http://www.seattletimes.com/seattle-news/health/91000-state-medicaid-clients-warned-of-data-breach/\",\n",
        "            \"https://www.wired.com/2015/08/happened-hackers-posted-stolen-ashley-madison-data/\",\n",
        "            \"http://www.idtheftcenter.org/artman2/publish/lib_survey/ITRC_2008_Breach_List.shtml\",\n",
        "            \"https://www.theguardian.com/technology/2010/jun/10/apple-ipad-security-leak?INTCMP=SRCH\",\n",
        "            \"https://www.koreatimes.co.kr/www/news/biz/2010/03/123_63121.html\",\n",
        "            \"https://www.theguardian.com/world/2015/mar/30/personal-details-of-world-leaders-accidentally-revealed-by-g20-organisers\",\n",
        "            \"https://abcnews.go.com/Technology/story?id=2160425&page=1#.UFcROxgUwaA\",\n",
        "            \"http://www.winston.com/en/privacy-law-corner/3m-data-breach-settlement-approved-for-avmed-customers.html\",\n",
        "            \"http://www.scmagazine.com/attacker-compromises-information-of-250k-in-baileys-data-breach/article/483630/\",\n",
        "            \"https://web.archive.org/web/20160308134258/http://www.wctv.tv/news/headlines/28132494.html?storySection=comments\",\n",
        "            \"http://www.wctv.tv/news/headlines/28132494.html?storySection=comments\",\n",
        "            \"https://www.nbcnews.com/id/7032779/ns/technology_and_science-security/t/bank-america-loses-customer-data/#.WHPYpVMrJUQ\",\n",
        "            \"https://www.nytimes.com/2012/10/24/business/hackers-get-credit-data-at-barnes-noble.html\",\n",
        "            \"https://money.cnn.com/2012/10/24/technology/barnes--noble-hack/\",\n",
        "            \"https://www.theglobeandmail.com/report-on-business/bell-apologizes-to-customers-after-data-breach-hits-19-million-e-mail-addresses/article35004027/\",\n",
        "            \"https://www.cbc.ca/news/business/bell-canada-data-breach-1.4500156\",\n",
        "            \"http://www.pcworld.com/article/231215/lulzsec_a_short_history_of_hacking.html\",\n",
        "            \"https://www.eurogamer.net/articles/2018-12-06-bethesda-has-leaked-fallout-76-customer-names-addresses-contact-details\",\n",
        "            \"https://www.casinolistings.com/news/2020/01/jackpot247-suffers-data-breach/\",\n",
        "            \"https://blog.dehashed.com/town-of-salem-blankmediagames-hacked/\",\n",
        "            \"https://www.forbes.com/sites/daveywinder/2019/01/03/town-of-salem-hacked-leaving-more-than-7-6m-with-compromised-data/#66a625f730d3\",\n",
        "            \"http://us.blizzard.com/en-us/securityupdate.html\",\n",
        "            \"http://www.darkreading.com/attacks-and-breaches/blizzard-battlenet-security-breached-passwords-accessed/d/d-id/1105740?\",\n",
        "            \"http://www.scmagazine.com/thief-steals-57-hard-drives-from-bluecross-blueshield-of-tennessee/article/162178/\",\n",
        "            \"http://www.cbc.ca/news/business/bank-hack-tuesday-1.4682018\",\n",
        "            \"https://www.britishairways.com/en-us/information/incident/data-theft/latest-information\",\n",
        "            \"https://www.reuters.com/article/us-iag-cybercrime-british-airways/ba-apologizes-after-380000-customers-hit-in-cyber-attack-idUSKCN1LM2P6\",\n",
        "            \"https://www.bbc.com/news/business-48905907\",\n",
        "            \"https://www.theguardian.com/business/2015/mar/29/british-airways-frequent-flyer-accounts-hacked\",\n",
        "            \"https://www.reuters.com/article/us-bulgaria-cybersecurity/hackers-steal-millions-of-bulgarians-financial-records-tax-agency-idUSKCN1UB0MA\",\n",
        "            \"https://www.businessinsider.com/california-child-support-data-breach-2012-4?r=US&IR=T\",\n",
        "            \"https://www.cisomag.com/nearly-140-million-user-data-leaked-in-canva-hack/\",\n",
        "            \"https://www.hackread.com/online-graphic-design-tool-canva-hacked/\",\n",
        "            \"http://www.crn.com.au/news/canva-hacked---user-details-accessed-but-passwords-safe-525716\",\n",
        "            \"https://www.cnn.com/2019/07/29/business/capital-one-data-breach/index.html\",\n",
        "            \"https://www.capitalone.com/facts2019/\",\n",
        "            \"https://www.nbcnews.com/id/8260050\",\n",
        "            \"https://www.cnet.com/news/credit-card-breach-exposes-40-million-accounts/\",\n",
        "            \"https://www.straitstimes.com/asia/east-asia/cathay-pacific-flags-data-breach-affecting-94-million-passengers\",\n",
        "            \"http://www.baltimoresun.com/health/bs-bz-carefirst-data-breach-20150520-story.html\",\n",
        "            \"http://krebsonsecurity.com/2016/02/breached-credit-union-comes-out-of-its-shell/\",\n",
        "            \"http://www.privacyrights.org/data-breach\",\n",
        "            \"http://www.computerworld.com/s/article/9125078/CheckFree_warns_5_million_customers_after_hack\",\n",
        "            \"https://www.theregister.co.uk/2020/01/09/checkpeoplecom_data_exposed/\",\n",
        "            \"https://www.zdnet.com/blog/security/chinese-hacker-arrested-for-leaking-6-million-logins/11064\",\n",
        "            \"http://www.ehackingnews.com/2011/12/hackers-compromised-38-million-chinese.html\",\n",
        "            \"https://www.nytimes.com/2005/06/07/business/07data.html\",\n",
        "            \"http://www.pcworld.com/article/229891/Citigroup_Hack_Nets_Over_200k_in_Stolen_Customer_Details.html\",\n",
        "            \"http://news.softpedia.com/news/Citi-Exposes-Details-of-150-000-Individuals-Who-Went-into-Bankruptcy-369979.shtml\",\n",
        "            \"http://www.computerweekly.com/news//Hackney-NHS-trust-encrypts-IT-equipment-following-loss-of-child-data\",\n",
        "            \"https://www.cnn.com/2020/02/26/tech/clearview-ai-hack/index.html\",\n",
        "            \"https://www.bbc.com/news/technology-51658111\",\n",
        "            \"https://www.thedailybeast.com/clearview-ai-facial-recognition-company-that-works-with-law-enforcement-says-entire-client-list-was-stolen\",\n",
        "            \"https://money.cnn.com/2014/08/18/technology/security/hospital-chs-hack/\",\n",
        "            \"http://www.computerworld.com/s/article/9072198/Programmer_who_stole_drive_containing_1_million_bank_records_gets_42_months\",\n",
        "            \"http://latimesblogs.latimes.com/money_co/2011/09/man-convicted-in-huge-countrywide-data-theft-gets-8-months-in-prison.html\",\n",
        "            \"https://www.deccanchronicle.com/technology/in-other-news/201018/us-cms-says-75000-individuals-files-accessed-in-data-breach.html\",\n",
        "            \"http://www.infosecurity-magazine.com/news/cox-communications-investigates/\",\n",
        "            \"http://www.healthcareitnews.com/news/walgreens-company-announces-data-breach\",\n",
        "            \"https://www.nytimes.com/2015/07/18/business/cvs-and-walmart-canada-are-investigating-a-data-breach.html\",\n",
        "            \"http://usatoday30.usatoday.com/tech/news/computersecurity/2007-12-30-data_n.htm\",\n",
        "            \"https://money.cnn.com/2003/02/18/technology/creditcards/\",\n",
        "            \"https://www.reuters.com/article/us-northkorea-cybercrime-southkorea/north-korea-hackers-stole-south-korea-u-s-military-plans-to-wipe-out-north-korea-leadership-lawmaker-idUSKBN1CF1WT\",\n",
        "            \"https://fortune.com/2017/09/25/deloitte-hack/\",\n",
        "            \"https://www.theguardian.com/business/2017/oct/10/deloitte-hack-hit-server-containing-emails-from-across-us-government\",\n",
        "            \"https://www.washingtonpost.com/news/post-politics/wp/2016/07/22/on-eve-of-democratic-convention-wikileaks-releases-thousands-of-documents-about-clinton-the-campaign-and-internal-deliberations/\",\n",
        "            \"https://www.pcmag.com/article2/0,2817,2499013,00.asp\",\n",
        "            \"https://www.nytimes.com/2016/02/09/us/hackers-access-employee-records-at-justice-and-homeland-security-depts.html?_r=0\",\n",
        "            \"https://www.priv.gc.ca/en/opc-actions-and-decisions/investigations/investigations-into-businesses/2020/pipeda-2020-005/\",\n",
        "            \"https://www.theguardian.com/technology/2014/jun/16/dominos-pizza-ransom-hack-data\",\n",
        "            \"https://techcrunch.com/2019/09/26/doordash-data-breach/\",\n",
        "            \"http://news.bbc.co.uk/1/hi/uk_politics/7147715.stm\",\n",
        "            \"http://www.informationweek.co.uk/security/client/dropbox-admits-hack-adds-more-security-f/\",\n",
        "            \"https://arstechnica.com/security/2013/05/drupal-org-resets-login-credentials-after-hack-exposes-password-data/\",\n",
        "            \"https://www.nbcnews.com/id/7550562/ns/technology_and_science-security/t/million-exposed-shoe-data-breach/#.WHPXH1MrJUQ\",\n",
        "            \"https://www.securedata.com/blog/dubsmash-accounts-hacked#\",\n",
        "            \"https://www.usatoday.com/story/cybertruth/2013/09/26/lexisnexis-dunn--bradstreet-altegrity-hacked/2878769/\",\n",
        "            \"https://www.reuters.com/article/2013/09/26/us-cyberattacks-databrokers-idUSBRE98P\",\n",
        "            \"https://www.bbc.com/news/technology-52722626\",\n",
        "            \"https://www.independent.co.uk/travel/news-and-advice/easyjet-data-hack-news-cyber-attack-passengers-personal-information-a9522241.html\",\n",
        "            \"https://www.washingtonpost.com/news/the-switch/wp/2014/05/21/ebay-asks-145-million-users-to-change-passwords-after-data-breach/\",\n",
        "            \"https://www.usatoday.com/story/money/2019/04/01/credit-card-data-breach-hits-buca-di-beppo-planet-hollywood/3335523002/\",\n",
        "            \"http://www.foxnews.com/us/2010/03/26/student-loan-company-data-m-people-stolen/\",\n",
        "            \"https://www.hhs.gov/hipaa/for-professionals/breach-notification/index.html\",\n",
        "            \"https://www.zdnet.com/article/online-casino-group-leaks-information-on-108-million-bets-including-user-details/\",\n",
        "            \"https://wikileaks.org/cablegate.html\",\n",
        "            \"http://www.healthcareinfosecurity.com/chicago-breach-affects-180000-a-2496\",\n",
        "            \"https://www.cnet.com/news/equifax-data-leak-hits-nearly-half-of-the-us-population/\",\n",
        "            \"https://www.usatoday.com/story/money/2017/09/14/equifax-identity-theft-hackers-apache-struts//\",\n",
        "            \"https://www.cnbc.com/2014/07/24/ecb-announces-data-theft.html\",\n",
        "            \"http://www.cityam.com//ecb-website-hacked\",\n",
        "            \"https://www.wired.co.uk/news/archive/2013-03/04/evernote-hacked\",\n",
        "            \"http://www.digitaltrends.com/mobile/evernote-hack-50-million-users-forced-to-reset-passwords/\",\n",
        "            \"https://www.wired.com/story/exactis-database-leak-340-million-records/\",\n",
        "            \"https://www.usatoday.com/story/tech/2015/09/10/cyber-breach-hackers-excellus-blue-cross-blue-shield/72018150/\",\n",
        "            \"https://www.huffingtonpost.com/entry/experian-hacked-tmobile_us_560e0d30e4b0af3706e0481e\",\n",
        "            \"http://fortune.com/2015/10/01/experian-data-breach-tmobile/\",\n",
        "            \"http://blog.eyewire.org/security-data-breach-partial-password-expiration-2016-02-23/\",\n",
        "            \"https://packetstormsecurity.com/news/view/22713/Facebook-Where-Your-Friends-Are-Your-Worst-Enemies.html\",\n",
        "            \"https://social.techcrunch.com/2018/09/28/everything-you-need-to-know-about-facebooks-data-breach-affecting-50m-users/\",\n",
        "            \"https://www.wired.com/story/facebook-security-breach-50-million-accounts/\",\n",
        "            \"https://www.vox.com/2018/9/28/17914598/facebook-new-hack-data-breach-50-million\",\n",
        "            \"https://www.cnbc.com/video/2018/09/28/zuckerberg-says-facebook-working-with-fbi-to-investigate-security-breach.html\",\n",
        "            \"https://www.nytimes.com/2018/09/28/technology/facebook-hack-data-breach.html\",\n",
        "            \"https://www.theguardian.com/technology/2018/sep/28/facebook-50-million-user-accounts-security-berach\",\n",
        "            \"https://www.cbsnews.com/news/millions-facebook-user-records-exposed-amazon-cloud-server/\",\n",
        "            \"https://www.engadget.com/facebook-533-million-user-personal-data-leak-180156777.html\",\n",
        "            \"https://www.businessinsider.com/facebook-uploaded-1-5-million-users-email-contacts-without-permission-2019-4\",\n",
        "            \"https://www.cnet.com/news/millions-of-facebook-user-phone-numbers-exposed-online-security-researchers-say/\",\n",
        "            \"https://newyork.cbslocal.com/2019/12/20/facebook-dark-web-data-breach/\",\n",
        "            \"http://www.pcworld.com/article/135117/article.html\",\n",
        "            \"https://gizmodo.com/885-million-sensitive-records-leaked-online-bank-trans-1835016235\",\n",
        "            \"https://www.timesofisrael.com/hackers-backed-by-foreign-government-reportedly-steal-info-from-us-treasury/\",\n",
        "            \"https://web.archive.org/web/20201214031245/https://www.timesofisrael.com/hackers-backed-by-foreign-government-reportedly-steal-info-from-us-treasury/\",\n",
        "            \"https://www.nytimes.com/2020/12/08/technology/fireeye-hacked-russians.html\",\n",
        "            \"https://web.archive.org/web/20201215184304/https://www.nytimes.com/2020/12/08/technology/fireeye-hacked-russians.html\",\n",
        "            \"http://www.theguardian.com/technology/2020/dec/08/fireeye-hack-cybersecurity-theft\",\n",
        "            \"https://web.archive.org/web/20201216014233/https://www.theguardian.com/technology/2020/dec/08/fireeye-hack-cybersecurity-theft\",\n",
        "            \"https://www.theverge.com/2016/11/13/13615750/412-million-adultfriendfinder-accounts-exposed-breach\",\n",
        "            \"https://www.zdnet.com/article/adultfriendfinder-network-hack-exposes-secrets-of-412-million-users/\",\n",
        "            \"https://www.animenewsnetwork.com/news/2017-02-22/report-2.5-million-funimation-accounts-compromised-in-data-breach/.112538\",\n",
        "            \"https://hacknotice.com/2016/12/22/funimation-com/\",\n",
        "            \"http://news.cnet.com/9944-83/formspring-disables-user-passwords-in-security-breach/?tag=mncol;txt\",\n",
        "            \"https://www.comparitech.com/fr/blog/vpn-privacy/200-million-us-database-leaked/\",\n",
        "            \"https://www.forbes.com/sites/andygreenberg/2012/07/23/eight-million-passwords-spilled-from-gaming-site-gamigo-months-after-breach/\",\n",
        "            \"http://www.pcworld.com/article/137865/article.html\",\n",
        "            \"https://www.theguardian.com/technology/2010/dec/13/gawker-hackers-passwords-twitter-wikileaks?INTCMP=SRCH\",\n",
        "            \"http://www.mediaite.com/online/gawker-medias-entire-commenter-database-appears-to-have-been-hacked/\",\n",
        "            \"https://www.washingtonpost.com/business/technology/faq-the-global-payments-hack/2012/04/02/gIQAIHLLrS_story.html\",\n",
        "            \"https://thenextweb.com/google/2014/09/10/4-93-million-gmail-usernames-passwords-published-google-says-evidence-systems-compromised/\",\n",
        "            \"https://arstechnica.com/tech-policy/2018/10/google-exposed-non-public-data-for-500k-users-then-kept-it-quiet//\",\n",
        "            \"https://www.nytimes.com/2018/10/08/technology/google-plus-security-disclosure.html\",\n",
        "            \"https://www.theverge.com/2018/10/8/17951890/google-plus-shut-down-security-api-change-gmail-android\",\n",
        "            \"https://www.wired.co.uk/news/archive/2012-11/22/greece-id-theft\",\n",
        "            \"https://www.theguardian.com/technology/2017/may/31/hackers-publish-private-photos-cosmetic-surgery-clinic-bitcoin-ransom-payments\",\n",
        "            \"http://www.seattletimes.com/nation-world/plastic-surgery-clinics-hacked-25000-photos-data-online/\",\n",
        "            \"https://web.archive.org/web/20170531124102/http://abcnews.go.com/Technology/wireStory/plastic-surgery-clinics-hacked-25000-photos-data-online-47728631\",\n",
        "            \"https://abcnews.go.com/Technology/wireStory/plastic-surgery-clinics-hacked-25000-photos-data-online-47728631\",\n",
        "            \"https://stratigossecurity.com/tag/gs-caltex/\",\n",
        "            \"https://www.comparebusinessproducts.com/fyi/15-most-massive-data-breaches-history\",\n",
        "            \"http://www.lowcards.com/gyft-notifies-users-data-breach-39508\",\n",
        "            \"http://www.businesswire.com/news/home/7/en/Gyft-Notifies-Affected-Users-Security-Incident\",\n",
        "            \"http://www.networkworld.com/article/2284998/lan-wan/details-emerging-on-hannaford-data-breach.html\",\n",
        "            \"https://blog.weleakinfo.com/hautelook-com/\",\n",
        "            \"https://twitter.com/haveibeenpwned/status/1108852166880423937\",\n",
        "            \"http://www.databreachtoday.com/health-net-fined-second-time-for-breach-a-3081\",\n",
        "            \"http://healthleadersmedia.com/page-1/COM-263662/CA-Investigating-Latest-Health-Net-Data-Breach##\",\n",
        "            \"https://www.todayonline.com/singapore/personal-data-808000-blood-donors-compromised-nine-weeks-hsa-lodges-police-report\",\n",
        "            \"https://www.theguardian.com/technology/blog/2009/aug/24/hacking-law?INTCMP=SRCH\",\n",
        "            \"https://money.cnn.com/2012/03/30/technology/credit-card-data-breach/index.htm\",\n",
        "            \"https://www.mirror.co.uk/news/uk-news/terror-threat-heathrow-airport-security-11428132\",\n",
        "            \"https://www.theregister.com/2017/10/30/heathrow_usb_security_blunder/\",\n",
        "            \"https://www.bbc.co.uk/news/uk-41792995\",\n",
        "            \"http://news.cnet.com/Laptop-with-HP-employee-data-stolen/964.html\",\n",
        "            \"http://fortune.com/2015/11/25/hilton-data-breach/\",\n",
        "            \"https://www.reuters.com/article/us-hilton-wrldwide-settlement/hilton-to-pay-700000-over-credit-card-data-breaches-idUSKBN1D02L3\",\n",
        "            \"http://krebsonsecurity.com/2014/09/banks-credit-card-breach-at-home-depot/\",\n",
        "            \"http://www.guelphmercury.com/news-story/2200845-honda-canada-hit-by-online-security-breach-283-000-car-owners-personal-data-stolen/\",\n",
        "            \"https://abcnews.go.com/Technology/hyatt-reveals-data-breach-impacted-250-hotels/story?id=36315368\",\n",
        "            \"http://www.hyatt.com/protectingourcustomers/\",\n",
        "            \"https://www.forbes.com/sites/daveywinder/2020/08/19/massive-data-leak235-million-instagram-tiktok-and-youtube-user-profiles-exposed/\",\n",
        "            \"https://abcnews.go.com/Politics/irs-thieves-stolen-info-220000-additional-tax-accounts/story?id=33140918\",\n",
        "            \"https://money.cnn.com/2016/02/26/technology/irs-data-theft/\",\n",
        "            \"http://www.cbc.ca/news/canada/north/patient-records-possible-breach-1.3435311\",\n",
        "            \"https://www.zdnet.com/blog/security/3-million-bank-accounts-hacked-in-iran/11577\",\n",
        "            \"https://web.archive.org/web/20160207043534/http://www.journal-news.net/page/content.detail/id/511806.html?nav=5006\",\n",
        "            \"http://www.journal-news.net/page/content.detail/id/511806.html?nav=5006\",\n",
        "            \"http://www.pcworld.com/article/131453/article.html\",\n",
        "            \"https://dealbook.nytimes.com/2014/10/02/jpmorgan-discovers-further-cyber-security-issues/?_php=true&_type=blogs&_r=0\",\n",
        "            \"https://economictimes.indiatimes.com/tech/internet/data-breach-at-justdial-leaks-100-million-user-details/articleshow/68930607.cms\",\n",
        "            \"http://www.computerworld.com/s/article/9001150/KDDI_suffers_massive_data_breach\",\n",
        "            \"http://www.databreachwatch.org/community-college-data-breach-leaks-125000-ssns/\",\n",
        "            \"https://www.vice.com/en/article/pgkp57/a-teen-hacker-is-targeting-russian-sites-as-revenge-for-the-mh17-crash\",\n",
        "            \"https://www.iphoneincanada.ca/carriers/telus/telus-koodo-data-breach/\",\n",
        "            \"http://www.securityweek.com/20-million-people-fall-victim-south-korea-data-leak\",\n",
        "            \"https://www.koreatimes.co.kr/www/news/biz/2012/07/html\",\n",
        "            \"http://news.cnet.com/2215-83/hackers-accused-of-stealing-data-from-9m-korean-mobile-users/\",\n",
        "            \"https://web.archive.org/web/20160201104735/http://www.bankrate.com/financing/identity-protection/restaurant-chains-hit-with-data-breach/\",\n",
        "            \"http://www.bankrate.com/financing/identity-protection/restaurant-chains-hit-with-data-breach/\",\n",
        "            \"http://news.cuna.org/articles/109340-data-security-critical-as-menu-of-breaches-grows\",\n",
        "            \"https://www.cbc.ca/news/canada/british-columbia/lifelabs-cyberattack-15-million-1.5399577\",\n",
        "            \"https://www.pcworld.idg.com.au/article/351659/new_york_hospital_loses_data_130_000_via_fedex/\",\n",
        "            \"https://www.cnet.com/news/what-the-password-leaks-mean-to-you-faq/\",\n",
        "            \"https://web.archive.org/web/20181230171349/https://www.cnet.com/news/what-the-password-leaks-mean-to-you-faq/\",\n",
        "            \"https://arstechnica.com/security/2012/06/8-million-leaked-passwords-connected-to-linkedin/\",\n",
        "            \"https://web.archive.org/web/20181230173243/https://arstechnica.com/information-technology/2012/06/8-million-leaked-passwords-connected-to-linkedin/\",\n",
        "            \"http://nakedsecurity.sophos.com/2013/04/27/livingsocial-hacked-50-million-affected/\",\n",
        "            \"http://bits.blogs.nytimes.com/2013/04/26/living-social-hack-exposes-data-for-50-million-customers/\",\n",
        "            \"https://www.wired.co.uk/news/archive/2013-11/13/mac-rumours-forums-hacked\",\n",
        "            \"http://www.scmagazine.com/malware-attack-on-mandarin-oriental-credit-card-systems-affected-10-properties/article/426139/\",\n",
        "            \"http://www.mandarinoriental.com/media/press-releases/press-release-and-notice-regarding-mandarin-oriental-credit-card-breach.aspx\",\n",
        "            \"https://www.nytimes.com/2018/12/11/us/politics/trump-china-trade.html\",\n",
        "            \"https://www.nytimes.com/aponline/2020/03/31/business/ap-us-marriott-data-breach.html\",\n",
        "            \"https://www.nydailynews.com/news/national/russians-ukrainian-charged-largest-hacking-spree-u-s-history-article-1.1408948\",\n",
        "            \"http://www.healthcareitnews.com/news/hackers-hit-business-associate-swipe-phi-social-security-numbers\",\n",
        "            \"https://web.archive.org/web/20121012115340/https://www.mhs.net/pdf/release071112.pdf\",\n",
        "            \"http://www.mhs.net/pdf/release071112.pdf\",\n",
        "            \"https://www.washingtonpost.com/business/economy/michaels-says-nearly-3-million-customers-hit-by-data-breach/2014/04/18/3074e432-c6fc-11e3-8b9a-8e0977a24aeb_story.html\",\n",
        "            \"https://www.engadget.com/2020/01/22/microsoft-database-exposure/\",\n",
        "            \"http://www.pcworld.com/article/252647/reborn_lulzsec_claims_hack_of_dating_site_for_military_personnel.html\",\n",
        "            \"http://news.bbc.co.uk/2/hi/americas/7395295.stm\",\n",
        "            \"http://www.geek.com/articles/news/government-servers-in-chile-hacked-6-million-personal-records-made-public-20080514/\",\n",
        "            \"https://www.todayonline.com/singapore/hiv-data-leak-timeline-events\",\n",
        "            \"https://www.cnn.com/2019/01/28/health/hiv-status-data-leak-singapore-intl/index.html\",\n",
        "            \"https://hacken.io/research/industry-news-and-insights/no-more-privacy-202-million-private-resumes-exposed/\",\n",
        "            \"https://www.bleepingcomputer.com/news/security/over-275-million-records-exposed-by-unsecured-mongodb-database/\",\n",
        "            \"http://news.bbc.co.uk/1/hi/6956349.stm\",\n",
        "            \"https://www.theguardian.com/technology/2014/aug/05/mozilla-leak-developer-email-addresses-passwords-firefox\",\n",
        "            \"https://www.bleepingcomputer.com/news/security/myheritage-genealogy-site-announces-mega-breach-affecting-92-million-accounts/\",\n",
        "            \"https://www.reuters.com/article/2013/07/18/net-us-nasdaq-cybercrime-website-idUSBRE96H1F\",\n",
        "            \"http://consumerist.com/2015/03/03/theres-another-possible-payment-data-breach-at-natural-grocers/\",\n",
        "            \"https://www.nytimes.com/2014/01/24/business/neiman-marcus-breach-affected-1-1-million-cards.html\",\n",
        "            \"http://krebsonsecurity.com/2014/08/stealthy-razor-thin-atm-insert-skimmers/\",\n",
        "            \"https://web.archive.org/web/20121107153025/http://zerosecurity.org/technews/past-three-years-over-21m-medical-record-breaches/\",\n",
        "            \"http://zerosecurity.org/technews/past-three-years-over-21m-medical-record-breaches/\",\n",
        "            \"http://www.computerworld.com/s/article/9175783/Network_Solutions_sites_hacked_again\",\n",
        "            \"http://voices.washingtonpost.com/securityfix/2009/07/network_solutions_hack_comprom.html\",\n",
        "            \"https://medium.com/@vijayp/f6bc289679a1\",\n",
        "            \"https://www.reuters.com/article/us-korea-hacking-nexon-idUSTRE7AP09H20111126\",\n",
        "            \"https://web.archive.org/web/20141226052435/http://www.reuters.com/article/2011/11/26/us-korea-hacking-nexon-idUSTRE7AP09H20111126\",\n",
        "            \"http://www.techweekeurope.co.uk/news/nhs-researchers-lose-laptop-with-8m-patients-records-31810\",\n",
        "            \"https://web.archive.org/web/20130708184713/http://www.joystiq.com/2013/07/05/club-nintendo-japan-hacked/\",\n",
        "            \"http://www.joystiq.com/2013/07/05/club-nintendo-japan-hacked/\",\n",
        "            \"https://www.eurogamer.net/articles/2020-04-24-nintendo-confirms-160-000-accounts-accessed-in-huge-privacy-breach\",\n",
        "            \"http://www.news.com.au/technology/online/hacking/teen-cyber-anakin-hacker-wants-revenge-on-russia-after-the-mh17-crash/news-story/bb2eecdc37c54f2b5b3800dd26ef4caf\",\n",
        "            \"http://infowatch.com/node/1289\",\n",
        "            \"http://www.theguardian.com/technology/2020/dec/23/data-breach-hits-30000-signed-up-to-workplace-pensions-provider\",\n",
        "            \"https://www.theguardian.com/media/2016/mar/10/ofcom-tackles-mass-data-breach-of-tv-company-information\",\n",
        "            \"https://www.nytimes.com/2015/07/10/us/office-of-personnel-management-hackers-got-data-of-millions.html\",\n",
        "            \"https://www.theguardian.com/technology/2015/sep/23/us-government-hack-stole-fingerprints\",\n",
        "            \"http://www.rawstory.com/rs/2012/04/26/texas-attorney-general-exposes-millions-of-voters-social-security-numbers/\",\n",
        "            \"https://www.strategicrevenue.com/orbitz-amextravel-victims-of-latest-data-breach-effecting-880000-customers-information/\",\n",
        "            \"http://status.ovh.net/?do=details&id=5070\",\n",
        "            \"https://www.newsweek.com/hackers-patreon-data-breach-patreon-dump-patreon-breach-379512\",\n",
        "            \"https://oag.ca.gov/system/files/POPSUGAR%20Notice%20of%20Data%20Breach_0.pdf\",\n",
        "            \"http://premeraupdate.com/\",\n",
        "            \"https://www.publishedreporter.com/2019/06/05/nearly-12-million-quest-diagnostics-patients-medical-info-exposed-in-new-data-breach/\",\n",
        "            \"https://timesofindia.indiatimes.com/business/international-business/quora-says-100-million-users-hit-by-security-breach/articleshow/66930356.cms\",\n",
        "            \"https://arstechnica.com/security/2016/09/98-million-passwords-from-2012-breach-of-russias-yahoo-rambler-ru-leaked/\",\n",
        "            \"https://web.archive.org/web/20160909124042/https://www.leakedsource.com/blog/rambler\",\n",
        "            \"https://www.leakedsource.com/blog/rambler\",\n",
        "            \"https://www.theregister.co.uk/2008/12/29/rbs_worldpay_breach/\",\n",
        "            \"https://www.theguardian.com/technology/2018/aug/02/reddit-user-information-usernames-passwords-email-addresses-hack\",\n",
        "            \"https://www.siliconrepublic.com/enterprise/reddit-data-breach\",\n",
        "            \"https://techcrunch.com/2009/12/14/rockyou-hack-security-myspace-facebook-passwords/\",\n",
        "            \"http://www.orlandosentinel.com/business/brinkmann-on-business/os-rosen-hotels-data-breach-20160308-post.html\",\n",
        "            \"http://news.cnet.com/68386-245/sf-utilities-agency-warns-of-potential-breach/\",\n",
        "            \"http://fortune.com/2015/10/02/scottrade-data-breach/\",\n",
        "            \"http://nakedsecurity.sophos.com/2013/04/05/scribd-worlds-largest-online-library-admits-to-network-intrusion-password-breach/\",\n",
        "            \"https://web.archive.org/web/20140204190425/http://www.nbcnews.com/technology/scribd-hack-exposes-thousands-users-1B9239618\",\n",
        "            \"https://www.nbcnews.com/technology/scribd-hack-exposes-thousands-users-1B9239618\",\n",
        "            \"http://www.fosters.com/apps/pbcs.dll/article?AID=/20110120/GJNEWS_01/\",\n",
        "            \"https://www.zdnet.com/blog/gamification/sega-1-3-million-customer-records-hacked-lulzsec-promises-retribution/481\",\n",
        "            \"http://news.bbc.co.uk/1/hi/england/gloucestershire/7639006.stm\",\n",
        "            \"https://www.marketing-interactive.com/shopback-says-consumer-cashback-is-safe-despite-data-breach\",\n",
        "            \"https://www.todayonline.com/singapore/hackers-stole-medical-data-pm-lee-and-15-million-patients-major-cyber-attack-singhealth\",\n",
        "            \"https://nakedsecurity.sophos.com/2015/03/30/slack-gets-hacked-rolls-out-two-factor-authentication-after-user-database-breach/\",\n",
        "            \"https://medium.com/@lynx0x00/i-hacked-slickwraps-this-is-how-8b0806358fbb\",\n",
        "            \"https://www.washingtonpost.com/news/the-switch/wp/2014/01/01/a-snapchat-security-breach-affects-4-6-million-users-did-snapchat-drag-its-feet-on-a-fix/\",\n",
        "            \"http://www.computerworld.com/s/article/9216343/Sony_cuts_off_Sony_Online_Entertainment_service_after_hack\",\n",
        "            \"https://money.cnn.com/2011/05/10/technology/sony_hack_fallout/\",\n",
        "            \"http://mashable.com/2011/06/02/sony-pictures-hacked/\",\n",
        "            \"https://www.buzzfeed.com/tomgara/sony-hack\",\n",
        "            \"http://mashable.com/2011/05/31/sony-playstation-services-return/\",\n",
        "            \"https://www.wired.co.uk/news/archive/2013-05/22/south-africa-whistleblower-leak\",\n",
        "            \"https://web.archive.org/web/20131003225538/http://www.thestate.com/2012/04/20/2241321/personal-information-of-more-than.html#.UFpUVqRYtmg\",\n",
        "            \"http://www.thestate.com/2012/04/20/2241321/personal-information-of-more-than.html#.UFpUVqRYtmg\",\n",
        "            \"https://web.archive.org/web/20130425225615/http://www.spartanburgregional.com/Pages/PatientNotice.aspx\",\n",
        "            \"http://www.spartanburgregional.com/Pages/PatientNotice.aspx\",\n",
        "            \"http://www.sfgate.com/bayarea/article/Stanford-employees-data-on-stolen-laptop-3281185.php\",\n",
        "            \"https://abcnews.go.com/Technology/starwood-hotels-malware-data-breach/story?id=35329954\",\n",
        "            \"https://www.cbsnews.com/news/starwood-data-breach-see-which-hotels-are-affected/\",\n",
        "            \"http://www.informationweek.com/security/attacks/texas-data-breach-exposed-35-million-rec/?queryText=Texas%20data%20leak\",\n",
        "            \"https://www.bbc.co.uk/news/technology-15690187\",\n",
        "            \"https://www.engadget.com/2019/08/03/stockx-hacked\",\n",
        "            \"http://bits.blogs.nytimes.com/2011/12/27/questions-about-motives-behind-stratfor-hack/\",\n",
        "            \"http://fortune.com/2014/09/29/supervalu-malware-point-of-sale/\",\n",
        "            \"http://www.simplysecurity.com/2011/11/30/sutter-health-sued-for-1-billion-following-data-breach/\",\n",
        "            \"https://www.bbc.co.uk/news/world-middle-east-18724328\",\n",
        "            \"https://www.webcitation.org/692uV9c2N?url=http://www.bbc.co.uk/news/world-middle-east-18724328\",\n",
        "            \"https://www.forbes.com/sites/andygreenberg/2012/07/05/wikileaks-announces-its-largest-release-yet-in-the-syria-files-2-4-million-emails-from-syrian-officials-and-companies/\",\n",
        "            \"https://www.webcitation.org/692uUmRbY?url=http://www.forbes.com/sites/andygreenberg/2012/07/05/wikileaks-announces-its-largest-release-yet-in-the-syria-files-2-4-million-emails-from-syrian-officials-and-companies/\",\n",
        "            \"https://nakedsecurity.sophos.com/2016/02/05/data-breach-in-china-100-million-records-used-to-hack-20-million-taobao-users/\",\n",
        "            \"https://thehackernews.com/2017/09/taringa-data-breach-hacking.html\",\n",
        "            \"https://web.archive.org/web/20131225012435/http://www.chicagotribune.com/news/sns-rt-us-target-breach-20131218,0,3434295.story\",\n",
        "            \"https://www.chicagotribune.com/news/sns-rt-us-target-breach-20131218,0,3434295.story\",\n",
        "            \"https://www.huffingtonpost.com/2013/12/19/target-hacked-customer-credit-card-data-accessed_n_4471672.html\",\n",
        "            \"http://www.marketwatch.com/story/tax-software-firm-warns-of-data-breach-2016-02-04\",\n",
        "            \"https://www.ftc.gov/news-events/press-releases/2017/08/operator-online-tax-preparation-service-agrees-settle-ftc-charges\",\n",
        "            \"https://www.consumer.ftc.gov/blog/2017/08/taxslayer-file-one-under-authentication\",\n",
        "            \"https://www.wired.com/threatlevel/2008/07/ameritrade-hack/\",\n",
        "            \"http://legalnewsline.com/stories/td-bank-reaches-data-breach-settlement-with-massachusetts\",\n",
        "            \"http://www.americanbanker.com/news/bank-technology/td-bank-pays-625000-in-mass-data-breach-settlement-1071592-1.html\",\n",
        "            \"http://boingboing.net/2013/05/23/terracom-and-yourtel-threaten.html\",\n",
        "            \"https://www.wired.co.uk/news/archive/2013-05/23/reporter-google-breach-hacker\",\n",
        "            \"https://news.bloomberglaw.com/tech-and-telecom-law/retail-customer-data-exposure-spotlights-cloud-security-risk\",\n",
        "            \"https://motherboard.vice.com/en_us/article/j5kd4b/ticketfly-hack-breach-26-million-users-emails-home-addresses\",\n",
        "            \"http://www.scmagazine.com.au/News/349585,28-million-clear-text-passwords-found-after-tianya65279-hack.aspx\",\n",
        "            \"https://www.zdnet.com/wi-fi-hack-caused-tk-maxx-security-breach/\",\n",
        "            \"https://www.nbcnews.com/id/17871485\",\n",
        "            \"https://wayback.archive-it.org/all/20150919100714/http://datalossdb.org/\",\n",
        "            \"http://www.informationweek.com/security/attacks/t-mobile-lost-17-million-subscribers-per/\",\n",
        "            \"https://www.theverge.com/2021/8/18/22630446/t-mobile-47-million-data-breach-ssn-pin-pii\",\n",
        "            \"https://www.analyticsindiamag.com/data-breach-truecaller-exposes-indian-users-data-shows-cracks-in-cyber-security-infrastructure/\",\n",
        "            \"https://economictimes.indiatimes.com/tech/internet/real-threat-truecaller-data-available-for-sale/articleshow/69437379.cms\",\n",
        "            \"https://web.archive.org/web/20160121160657/https://www.trumphotelcollection.com/data-security-notice\",\n",
        "            \"https://www.trumphotelcollection.com/data-security-notice\",\n",
        "            \"http://krebsonsecurity.com/2015/10/trump-hotel-collection-confirms-card-breach/\",\n",
        "            \"https://motherboard.vice.com/en_us/article/hackers-stole-68-million-passwords-from-tumblr-new-analysis-reveals\",\n",
        "            \"https://www.usatoday.com/story/tech/gaming/2015/03/24/twitch-warning-breach/70366310/\",\n",
        "            \"https://www.reuters.com/technology/amazons-twitch-hit-by-data-breach-2021-10-06/\",\n",
        "            \"https://web.archive.org/web/20130204085709/https://www.wired.co.uk/news/archive/2013-02/02/twitter-hacked\",\n",
        "            \"https://www.wired.co.uk/news/archive/2013-02/02/twitter-hacked\",\n",
        "            \"https://www.forbes.com/sites/davelewis/2015/02/28/uber-suffers-data-breach-affecting-50000/\",\n",
        "            \"https://www.uber.com/newsroom/2016-data-incident\",\n",
        "            \"http://forums.ubi.com/forumdisplay.php/495-Security-update-regarding-your-Ubisoft-account-please-create-a-new-password\",\n",
        "            \"https://arstechnica.com/security/2013/07/hack-exposes-e-mail-addresses-password-data-for-2-million-ubuntu-forum-users/\",\n",
        "            \"http://www.healthcareitnews.com/news/hackers-swipe-data-45m-ucla-health-system-massive-cyberattack\",\n",
        "            \"http://news.bbc.co.uk/2/hi/uk_news/politics/7845024.stm\",\n",
        "            \"http://news.bbc.co.uk/1/hi/uk_politics/7667507.stm\",\n",
        "            \"http://news.bbc.co.uk/2/hi/uk_news/7103911.stm\",\n",
        "            \"https://www.lowyat.net/2019/177033/over-1-million-uitm-students-and-alumni-personal-details-leaked-online\",\n",
        "            \"https://www.bbc.com/news/technology-43592470\",\n",
        "            \"https://www.nbcnews.com/id/30645920\",\n",
        "            \"http://www.foxnews.com/tech/2016/02/28/data-breach-affects-80000-uc-berkeley-faculty-students-and-alumni.html\",\n",
        "            \"https://www.washingtonpost.com/local/college-park-shady-grove-campuses-affected-by-university-of-maryland-security-breach/2014/02/19/ce438108-99bd-11e3-80ac-63a8ba7f7942_story.html\",\n",
        "            \"http://www.washingtontimes.com/news/2016/feb/5/63k-social-security-numbers-compromised-in-ucf-dat/\",\n",
        "            \"https://krebsonsecurity.com/2018/11/usps-site-exposed-data-on-60-million-users/\",\n",
        "            \"http://time.com/3151681/ups-hack/\",\n",
        "            \"https://www.forbes.com/sites/andygreenberg/2010/10/22/wikileaks-reveals-the-biggest-classified-data-breach-in-history/\",\n",
        "            \"http://gcn.com/Articles/2009/02/02/VA-data-breach-suit-settlement.aspx\",\n",
        "            \"https://www.cnn.com/2020/12/16/tech/solarwinds-orion-hack-explained/index.html\",\n",
        "            \"https://www.nytimes.com/2020/12/16/us/politics/russia-hack-putin-trump-biden.html\",\n",
        "            \"https://www.nytimes.com/2020/12/14/us/politics/russia-hack-nsa-homeland-security-pentagon.html\",\n",
        "            \"https://www.reuters.com/article/global-cyber-idUSKBN28O1Z3\",\n",
        "            \"https://www.pcmag.com/article2/0,2817,2390683,00.asp\",\n",
        "            \"https://www.wired.com/threatlevel/2009/10/probe-targets-archives-handling-of-data-on-70-million-vets/\",\n",
        "            \"https://www.theguardian.com/news/datablog/2010/nov/29/wikileaks-cables-data\",\n",
        "            \"https://yle.fi/uutiset/osasto/news/psychotherapy_centres_database_hacked_patient_info_held_ransom/11605460\",\n",
        "            \"http://fortune.com/2016/03/24/verizon-enterprise-data-breach/\",\n",
        "            \"https://cybernews.com/security/online-marketing-company-exposes-data-of-millions-americans/\",\n",
        "            \"https://www.techradar.com/news/virgin-media-data-breach-exposes-nearly-one-million-customer-details\",\n",
        "            \"https://www.theregister.co.uk/2020/03/05/virgin_media_subscriber_data_leak/\",\n",
        "            \"http://www.securityweek.com/attacker-steals-data-2-million-vodafone-germany-customers\",\n",
        "            \"https://www.nytimes.com/2015/12/01/business/security-breach-at-toy-maker-vtech-includes-data-on-children.html\",\n",
        "            \"https://www.pcmag.com/article2/0,2817,2388200,00.asp\",\n",
        "            \"https://www.reuters.com/article/us-usa-hack-washingtonstate-idUSBRE9480YY20130509\",\n",
        "            \"https://web.archive.org/web/20150113200531/http://www.reuters.com/article/2013/05/09/us-usa-hack-washingtonstate-idUSBRE9480YY20130509\",\n",
        "            \"http://www.courts.wa.gov/newsinfo/?fa=newsinfo.displayContent&theFile=dataBreach/home\",\n",
        "            \"https://www.bleepingcomputer.com/news/security/wattpad-data-breach-exposes-account-info-for-millions-of-users/\",\n",
        "            \"https://www.digitaltrends.com/news/convenience-store-data-breach-info-found-being-sold-on-dark-web/\",\n",
        "            \"http://www.ibtimes.co.uk/weebly-confirms-hack-affecting-over-40-million-users-foursquare-accounts-also-exposed-1587546\",\n",
        "            \"https://techcrunch.com/2016/10/20/weebly-hacked-43-million-credentials-stolen/\",\n",
        "            \"https://krebsonsecurity.com/2016/01/wendys-probes-reports-of-credit-card-breach/\",\n",
        "            \"http://time.com/money/4196058/wendys-hack-fraudulent-charges/?xid=time_socialflow_twitter\",\n",
        "            \"https://www.databreaches.net/security-breach-shuts-down-network-for-woodruff-arts-center-high-museum/\",\n",
        "            \"https://www.zdnet.com/article/thousands-of-wordpress-sites-backdoored-with-malicious-code/\",\n",
        "            \"https://www.pcmag.com/article2/0,2817,2387186,00.asp\",\n",
        "            \"https://xat.com/databreach.html\",\n",
        "            \"https://www.nytimes.com/2017/10/03/technology/yahoo-hack-3-billion-users.html\",\n",
        "            \"https://www.washingtonpost.com/news/the-switch/wp/2016/09/22/report-yahoo-to-confirm-data-breach-affecting-hundreds-of-millions-of-accounts/?hpid=hp_hp-top-table-main_yahoo-switch-330pm:homepage/story\",\n",
        "            \"https://www.usatoday.com/story/tech/news/2016/09/22/yahoo-breach-500-million-what-to-do/90849498/\",\n",
        "            \"https://www.cnet.com/news/yahoo-500-million-accounts-hacked-data-breach/\",\n",
        "            \"https://www.nytimes.com/2016/09/23/technology/yahoo-hackers.html\",\n",
        "            \"https://www.bloomberg.com/news/articles/2016-09-22/yahoo-says-at-least-500-million-accounts-breached-in-hack-attack\",\n",
        "            \"https://www.reuters.com/article/2013/05/17/us-yahoojapan-idUSBRE94G0P\",\n",
        "            \"http://it.slashdot.org/story/12/07/12/1243217/nearly-half-a-million-yahoo-passwords-leaked-updated\",\n",
        "            \"https://www.pcmag.com/article2/0,2817,2407015,00.asp\",\n",
        "            \"https://www.forbes.com/sites/andygreenberg/2012/01/15/zappos-says-hackers-accessed-24-million-customers-account-details/\",\n",
        "            \"https://venturebeat.com/2019/09/30/words-with-friends-player-data-allegedly-stolen-for-218-million-users/\",\n",
        "            \"https://www.theverge.com/2019/12/19/21029682/zynga-hack-words-with-friends-draw-something-password-data-breach\",\n",
        "            \"https://finance.nine.com.au/business-news/westpac-data-breach-100000-australian-customers-at-risk/84c91581-90b6-464e-9137-a2d973492614\",\n",
        "            \"https://www.9news.com.au/national/anu-suffers-massive-data-breach-australian-national-university-news/137debef-392b-44a8-bbb9-afaa5890d0fe\",\n",
        "            \"https://www.techradar.com/news/major-data-breach-exposes-database-of-200-million-users\",\n",
        "            \"https://spectator.sme.sk/c/22490407/coronavirus-app-reveals-personal-data-it-security-firm-found.html\",\n",
        "            \"https://www.archyde.com/protegez-vous-opens-an-investigation-into-a-data-theft-affecting-its-subscribers/\",\n",
        "            \"https://www.nbcnews.com/tech/security/u-s-issues-warning-after-microsoft-says-china-hacked-its-n1259522\",\n",
        "            \"https://www.ft.com/content/13d33a08-ce83-4f8a-8d93-a60a5e097ed8\",\n",
        "            \"https://www.reuters.com/article/us-bulgaria-cybersecurity-idUSKCN1UB0MA\"\n",
        "        ]\n",
        "    "
      ],
      "execution_count": null,
      "outputs": []
    },
    {
      "cell_type": "code",
      "metadata": {
        "id": "a95rd0q1CFdz"
      },
      "source": [
        "url_text = []\n",
        "x = pd.DataFrame(columns=['url','text'])\n",
        "for index, url in enumerate(links):\n",
        "  try:\n",
        "    article = Article(url)\n",
        "    article.download()\n",
        "    article.parse()\n",
        "    text = article.text\n",
        "    x = x.append({'url':url, 'text':text}, ignore_index=True)\n",
        "  except:\n",
        "    print(str(index) + ' ' + url + ' Failed to parse')"
      ],
      "execution_count": null,
      "outputs": []
    },
    {
      "cell_type": "code",
      "metadata": {
        "id": "McqvaamrCg8Y"
      },
      "source": [
        "x = pd.read_csv('./data.csv')"
      ],
      "execution_count": null,
      "outputs": []
    },
    {
      "cell_type": "markdown",
      "metadata": {
        "id": "V-P_hgBBRW5H"
      },
      "source": [
        "# Data Cleaning"
      ]
    },
    {
      "cell_type": "code",
      "metadata": {
        "id": "K3mJYQxQCKoC"
      },
      "source": [
        "# dropping the rows in which the text is empty\n",
        "df=x[~(x['text'] == '')]"
      ],
      "execution_count": null,
      "outputs": []
    },
    {
      "cell_type": "code",
      "metadata": {
        "colab": {
          "base_uri": "https://localhost:8080/"
        },
        "id": "rRt2mf8cHuAt",
        "outputId": "c47c023a-d9ad-4ad4-8888-b9b62b123515"
      },
      "source": [
        "df.to_csv('./data.csv')\n",
        "print(df.head())\n",
        "print(df.shape)"
      ],
      "execution_count": null,
      "outputs": [
        {
          "output_type": "stream",
          "name": "stdout",
          "text": [
            "   Unnamed: 0  ...                                               text\n",
            "0           0  ...  Gemalto, the world leader in digital security,...\n",
            "1           1  ...  We use cookies to ensure that we give you the ...\n",
            "2           2  ...  There’s no shortage of data breaches these day...\n",
            "3           4  ...  Monday, March 14, 2016\\n\\n21st Century Oncolog...\n",
            "4           5  ...  Exclusive Some 617 million online account deta...\n",
            "\n",
            "[5 rows x 3 columns]\n",
            "(337, 3)\n"
          ]
        }
      ]
    },
    {
      "cell_type": "markdown",
      "metadata": {
        "id": "Wv8NeO4FSE1i"
      },
      "source": [
        "# Splitting text into Paragraphs"
      ]
    },
    {
      "cell_type": "code",
      "metadata": {
        "id": "TGD0JgjdCeyJ"
      },
      "source": [
        "df[\"Text_Para\"]=df[\"text\"].apply(lambda x:re.split('\\n',x))"
      ],
      "execution_count": null,
      "outputs": []
    },
    {
      "cell_type": "markdown",
      "metadata": {
        "id": "jnT4UX4RSKc7"
      },
      "source": [
        "# Model"
      ]
    },
    {
      "cell_type": "code",
      "metadata": {
        "id": "qkFVtW2sCkw1",
        "colab": {
          "base_uri": "https://localhost:8080/"
        },
        "outputId": "c7bc49f2-e45d-4296-a9f3-ae13e801e682"
      },
      "source": [
        "## Load USE model\n",
        "module_url = \"https://tfhub.dev/google/nnlm-en-dim128/2\"\n",
        "embed = hub.KerasLayer(module_url)"
      ],
      "execution_count": null,
      "outputs": [
        {
          "output_type": "stream",
          "name": "stderr",
          "text": [
            "INFO:absl:Using /tmp/tfhub_modules to cache modules.\n",
            "INFO:absl:Downloading TF-Hub Module 'https://tfhub.dev/google/nnlm-en-dim128/2'.\n",
            "INFO:absl:Downloaded https://tfhub.dev/google/nnlm-en-dim128/2, Total size: 483.55MB\n",
            "INFO:absl:Downloaded TF-Hub Module 'https://tfhub.dev/google/nnlm-en-dim128/2'.\n"
          ]
        }
      ]
    },
    {
      "cell_type": "code",
      "metadata": {
        "id": "e-XgqmLhCnIf"
      },
      "source": [
        "sent= nltk.flatten(df[\"Text_Para\"].to_list())"
      ],
      "execution_count": null,
      "outputs": []
    },
    {
      "cell_type": "code",
      "metadata": {
        "colab": {
          "base_uri": "https://localhost:8080/"
        },
        "id": "-CzqIFkrCpiF",
        "outputId": "2c01832d-bdab-4016-b6b9-49070d39cc72"
      },
      "source": [
        "embeddings = embed(sent)\n",
        "embeddings.shape"
      ],
      "execution_count": null,
      "outputs": [
        {
          "output_type": "execute_result",
          "data": {
            "text/plain": [
              "TensorShape([8893, 128])"
            ]
          },
          "metadata": {},
          "execution_count": 14
        }
      ]
    },
    {
      "cell_type": "code",
      "metadata": {
        "id": "QfHXkbGYCrxd"
      },
      "source": [
        "#Calculate cosine similarity of query with all sentences\n",
        "def cosine_similarity_func(embeddings,embeddings_query):\n",
        "    '''\n",
        "    Input:\n",
        "         embeddings: array or tensor of all sentence embeddings (nX128 for n sentences)\n",
        "         embeddings_query: array or tensor of query embedding (1X128)\n",
        "    Output:\n",
        "         cosine_similarity: cosine similarity of query with each sentence (nX1) \n",
        "    '''\n",
        "    # x.y\n",
        "    dot_product = np.sum(np.multiply(np.array(embeddings),np.array(embeddings_query)),axis=1)\n",
        "    \n",
        "    #||x||.||y||\n",
        "    prod_sqrt_magnitude = np.multiply(np.sum(np.array(embeddings)**2,axis=1)**0.5, np.sum(np.array(embeddings_query)**2,axis=1)**0.5)\n",
        "    \n",
        "    #x.y/(||x||.||y||)\n",
        "    cosine_similarity  = dot_product/prod_sqrt_magnitude\n",
        "    return cosine_similarity"
      ],
      "execution_count": null,
      "outputs": []
    },
    {
      "cell_type": "code",
      "metadata": {
        "id": "SNaAP2pVCuSt"
      },
      "source": [
        "# function for recommend text based upon query\n",
        "def recommended_text(query,embeddings,sent,threshold_min=.95,threshold_max = 1):\n",
        "    '''\n",
        "    Input:\n",
        "         query: list of queries\n",
        "         embeddings: embeddings of all sentences\n",
        "         sent:list all sentences\n",
        "         threshold_min: lower limit of threshold for which sentence is supposed to be similar with query\n",
        "         threshold_max: upper limit of threshold for which sentence is supposed to be similar with query\n",
        "         \n",
        "    Output:\n",
        "          recommend_text: list of similar sentences with query\n",
        "    '''\n",
        "    recommend_text = []\n",
        "    embeddings_query = embed(query) #create embedding for query\n",
        "    \n",
        "    cosine_similarity = cosine_similarity_func(embeddings,embeddings_query) # get cosine similarity with all sentences\n",
        "    \n",
        "    # standardize cosine similarity output, Range(0,1)\n",
        "    standardize_cosine_simi  = (cosine_similarity-min(cosine_similarity))/(max(cosine_similarity)-min(cosine_similarity))\n",
        "    \n",
        "    #sort sent based upon cosine similarity score\n",
        "    sent_prob = list(map(lambda x, y:(x,y), standardize_cosine_simi, sent)) \n",
        "    sent_prob.sort(key=lambda tup: tup[0], reverse=True)\n",
        "\n",
        "    # select sentences by using upper and lower threshold\n",
        "    for i,j in sent_prob:\n",
        "        if (i >threshold_min) and (i<=threshold_max):\n",
        "            recommend_text.append(j)\n",
        "    return recommend_text"
      ],
      "execution_count": null,
      "outputs": []
    },
    {
      "cell_type": "markdown",
      "metadata": {
        "id": "L9Krp3Y0Snxw"
      },
      "source": [
        "# BERT Model"
      ]
    },
    {
      "cell_type": "code",
      "metadata": {
        "id": "8TG5zS38EiJT",
        "colab": {
          "base_uri": "https://localhost:8080/",
          "height": 537,
          "referenced_widgets": [
            "22885fc226774a83a6f31b6e8c80b259",
            "2f933f5c3e1c415f82c230ad24f1a85b",
            "7ad16cceb0e444d381534707f7064acc",
            "73e1a78ecf6a45dd8a9b07b4d216821f",
            "e220e787e02344cdb3f30d31848b58a8",
            "dab6e228d2f847d1988f0034d1c57480",
            "9114e28740e6439eaaf19ee83db1c133",
            "626d5d1420cd47ac8d7464fec825e6a7",
            "5aff188e169c4f8cbcb9efbdbc6cce67",
            "1fc3fb1f435d4fc7a1fdf663b5dcce87",
            "20dc080494134c65bb87b087a1a059aa",
            "60f1fd6f035d4db8abb72683981baaf3",
            "d1e2a64771fb4095824721ad268e0ea2",
            "8c18a9e4a81d459e818bde52c79b8b95",
            "9e2c27fe60da466db62f0776c082e450"
          ]
        },
        "outputId": "07b05916-cb02-4892-ad09-6b58827ccd7e"
      },
      "source": [
        "model = BertForQuestionAnswering.from_pretrained('bert-large-uncased-whole-word-masking-finetuned-squad')\n",
        "tokenizer = BertTokenizer.from_pretrained('bert-large-uncased-whole-word-masking-finetuned-squad')"
      ],
      "execution_count": null,
      "outputs": [
        {
          "output_type": "stream",
          "name": "stderr",
          "text": [
            "DEBUG:filelock:Attempting to acquire lock 139689975658640 on /root/.cache/huggingface/transformers/402f6d8c99fdd3bffd354782842e2b5a6be81f80ab630591051ebc78ca726f39.ebffac96fee44dbe30674c204dd3d3f358c1b8c33100281ecdd688514f41410a.lock\n",
            "DEBUG:filelock:Lock 139689975658640 acquired on /root/.cache/huggingface/transformers/402f6d8c99fdd3bffd354782842e2b5a6be81f80ab630591051ebc78ca726f39.ebffac96fee44dbe30674c204dd3d3f358c1b8c33100281ecdd688514f41410a.lock\n"
          ]
        },
        {
          "output_type": "display_data",
          "data": {
            "application/vnd.jupyter.widget-view+json": {
              "model_id": "22885fc226774a83a6f31b6e8c80b259",
              "version_minor": 0,
              "version_major": 2
            },
            "text/plain": [
              "Downloading:   0%|          | 0.00/443 [00:00<?, ?B/s]"
            ]
          },
          "metadata": {}
        },
        {
          "output_type": "stream",
          "name": "stderr",
          "text": [
            "DEBUG:filelock:Attempting to release lock 139689975658640 on /root/.cache/huggingface/transformers/402f6d8c99fdd3bffd354782842e2b5a6be81f80ab630591051ebc78ca726f39.ebffac96fee44dbe30674c204dd3d3f358c1b8c33100281ecdd688514f41410a.lock\n",
            "DEBUG:filelock:Lock 139689975658640 released on /root/.cache/huggingface/transformers/402f6d8c99fdd3bffd354782842e2b5a6be81f80ab630591051ebc78ca726f39.ebffac96fee44dbe30674c204dd3d3f358c1b8c33100281ecdd688514f41410a.lock\n",
            "DEBUG:filelock:Attempting to acquire lock 139689975003536 on /root/.cache/huggingface/transformers/28a060c1e2e1216bd9c8f5222ce38ce916c4829b8b05e027fe91510f3fd4da7e.50fc4a146342b3a6a99b185af3d5b70163b64d45790be64d9124dcccbcd3915e.lock\n",
            "DEBUG:filelock:Lock 139689975003536 acquired on /root/.cache/huggingface/transformers/28a060c1e2e1216bd9c8f5222ce38ce916c4829b8b05e027fe91510f3fd4da7e.50fc4a146342b3a6a99b185af3d5b70163b64d45790be64d9124dcccbcd3915e.lock\n"
          ]
        },
        {
          "output_type": "display_data",
          "data": {
            "application/vnd.jupyter.widget-view+json": {
              "model_id": "60f1fd6f035d4db8abb72683981baaf3",
              "version_minor": 0,
              "version_major": 2
            },
            "text/plain": [
              "Downloading:   0%|          | 0.00/1.25G [00:00<?, ?B/s]"
            ]
          },
          "metadata": {}
        },
        {
          "output_type": "stream",
          "name": "stderr",
          "text": [
            "DEBUG:filelock:Attempting to release lock 139689975003536 on /root/.cache/huggingface/transformers/28a060c1e2e1216bd9c8f5222ce38ce916c4829b8b05e027fe91510f3fd4da7e.50fc4a146342b3a6a99b185af3d5b70163b64d45790be64d9124dcccbcd3915e.lock\n",
            "DEBUG:filelock:Lock 139689975003536 released on /root/.cache/huggingface/transformers/28a060c1e2e1216bd9c8f5222ce38ce916c4829b8b05e027fe91510f3fd4da7e.50fc4a146342b3a6a99b185af3d5b70163b64d45790be64d9124dcccbcd3915e.lock\n",
            "DEBUG:filelock:Attempting to acquire lock 139689974108368 on /root/.cache/huggingface/transformers/68e5260dea718cdc2daf27dc106fd8741636b03e3173b5492e57a7fa525ca33b.d789d64ebfe299b0e416afc4a169632f903f693095b4629a7ea271d5a0cf2c99.lock\n",
            "DEBUG:filelock:Lock 139689974108368 acquired on /root/.cache/huggingface/transformers/68e5260dea718cdc2daf27dc106fd8741636b03e3173b5492e57a7fa525ca33b.d789d64ebfe299b0e416afc4a169632f903f693095b4629a7ea271d5a0cf2c99.lock\n"
          ]
        },
        {
          "output_type": "display_data",
          "data": {
            "application/vnd.jupyter.widget-view+json": {
              "model_id": "d1e2a64771fb4095824721ad268e0ea2",
              "version_minor": 0,
              "version_major": 2
            },
            "text/plain": [
              "Downloading:   0%|          | 0.00/226k [00:00<?, ?B/s]"
            ]
          },
          "metadata": {}
        },
        {
          "output_type": "stream",
          "name": "stderr",
          "text": [
            "DEBUG:filelock:Attempting to release lock 139689974108368 on /root/.cache/huggingface/transformers/68e5260dea718cdc2daf27dc106fd8741636b03e3173b5492e57a7fa525ca33b.d789d64ebfe299b0e416afc4a169632f903f693095b4629a7ea271d5a0cf2c99.lock\n",
            "DEBUG:filelock:Lock 139689974108368 released on /root/.cache/huggingface/transformers/68e5260dea718cdc2daf27dc106fd8741636b03e3173b5492e57a7fa525ca33b.d789d64ebfe299b0e416afc4a169632f903f693095b4629a7ea271d5a0cf2c99.lock\n",
            "DEBUG:filelock:Attempting to acquire lock 139689974108368 on /root/.cache/huggingface/transformers/b9f8d92aa5a32cfe504c3524c173dc611dbe81d49392f40601286b94ee1e1169.20430bd8e10ef77a7d2977accefe796051e01bc2fc4aa146bc862997a1a15e79.lock\n",
            "DEBUG:filelock:Lock 139689974108368 acquired on /root/.cache/huggingface/transformers/b9f8d92aa5a32cfe504c3524c173dc611dbe81d49392f40601286b94ee1e1169.20430bd8e10ef77a7d2977accefe796051e01bc2fc4aa146bc862997a1a15e79.lock\n"
          ]
        },
        {
          "output_type": "display_data",
          "data": {
            "application/vnd.jupyter.widget-view+json": {
              "model_id": "8c18a9e4a81d459e818bde52c79b8b95",
              "version_minor": 0,
              "version_major": 2
            },
            "text/plain": [
              "Downloading:   0%|          | 0.00/28.0 [00:00<?, ?B/s]"
            ]
          },
          "metadata": {}
        },
        {
          "output_type": "stream",
          "name": "stderr",
          "text": [
            "DEBUG:filelock:Attempting to release lock 139689974108368 on /root/.cache/huggingface/transformers/b9f8d92aa5a32cfe504c3524c173dc611dbe81d49392f40601286b94ee1e1169.20430bd8e10ef77a7d2977accefe796051e01bc2fc4aa146bc862997a1a15e79.lock\n",
            "DEBUG:filelock:Lock 139689974108368 released on /root/.cache/huggingface/transformers/b9f8d92aa5a32cfe504c3524c173dc611dbe81d49392f40601286b94ee1e1169.20430bd8e10ef77a7d2977accefe796051e01bc2fc4aa146bc862997a1a15e79.lock\n",
            "DEBUG:filelock:Attempting to acquire lock 139689974557840 on /root/.cache/huggingface/transformers/9b7535fe1c0da28aa7cc66b7f34529d984f535c401be8352f6adeb25f7870def.7f2721073f19841be16f41b0a70b600ca6b880c8f3df6f3535cbc704371bdfa4.lock\n",
            "DEBUG:filelock:Lock 139689974557840 acquired on /root/.cache/huggingface/transformers/9b7535fe1c0da28aa7cc66b7f34529d984f535c401be8352f6adeb25f7870def.7f2721073f19841be16f41b0a70b600ca6b880c8f3df6f3535cbc704371bdfa4.lock\n"
          ]
        },
        {
          "output_type": "display_data",
          "data": {
            "application/vnd.jupyter.widget-view+json": {
              "model_id": "9e2c27fe60da466db62f0776c082e450",
              "version_minor": 0,
              "version_major": 2
            },
            "text/plain": [
              "Downloading:   0%|          | 0.00/455k [00:00<?, ?B/s]"
            ]
          },
          "metadata": {}
        },
        {
          "output_type": "stream",
          "name": "stderr",
          "text": [
            "DEBUG:filelock:Attempting to release lock 139689974557840 on /root/.cache/huggingface/transformers/9b7535fe1c0da28aa7cc66b7f34529d984f535c401be8352f6adeb25f7870def.7f2721073f19841be16f41b0a70b600ca6b880c8f3df6f3535cbc704371bdfa4.lock\n",
            "DEBUG:filelock:Lock 139689974557840 released on /root/.cache/huggingface/transformers/9b7535fe1c0da28aa7cc66b7f34529d984f535c401be8352f6adeb25f7870def.7f2721073f19841be16f41b0a70b600ca6b880c8f3df6f3535cbc704371bdfa4.lock\n"
          ]
        }
      ]
    },
    {
      "cell_type": "code",
      "metadata": {
        "id": "cTVGkigvEpYY"
      },
      "source": [
        "def bert_question_answer(question, text):\n",
        "    \n",
        "    input_ids = tokenizer.encode(question, text)\n",
        "    tokens = tokenizer.convert_ids_to_tokens(input_ids)\n",
        "    \n",
        "    sep_idx = input_ids.index(tokenizer.sep_token_id)\n",
        "    num_seg_a = sep_idx+1\n",
        "    num_seg_b = len(input_ids) - num_seg_a\n",
        "    \n",
        "    segment_ids = [0]*num_seg_a + [1]*num_seg_b\n",
        "    assert len(segment_ids) == len(input_ids)\n",
        "    \n",
        "    output = model(torch.tensor([input_ids]), token_type_ids=torch.tensor([segment_ids]))\n",
        "    \n",
        "    answer_start = torch.argmax(output.start_logits)\n",
        "    answer_end = torch.argmax(output.end_logits)\n",
        "    if answer_end >= answer_start:\n",
        "        answer = tokens[answer_start]\n",
        "        for i in range(answer_start+1, answer_end+1):\n",
        "            if tokens[i][0:2] == \"##\":\n",
        "                answer += tokens[i][2:]\n",
        "            else:\n",
        "                answer += \" \" + tokens[i]\n",
        "                \n",
        "    if answer.startswith(\"[CLS]\"):\n",
        "        answer = \"Unable to find the answer to your question.\"\n",
        "    \n",
        "    print(\"\\nPredicted answer:\\n{}\".format(answer.capitalize()))\n",
        "    return answer.capitalize()"
      ],
      "execution_count": null,
      "outputs": []
    },
    {
      "cell_type": "code",
      "metadata": {
        "id": "XxpmwZLiEuRI"
      },
      "source": [
        "def question_answer(question):\n",
        "  q=[question]\n",
        "  result = recommended_text(q,embeddings,sent,threshold_min=.95)\n",
        "  # print(result)\n",
        "  context = \" \"\n",
        "  for text in result:\n",
        "    context = context + \" \"+ text\n",
        "  # print(context)\n",
        "  ans = bert_question_answer(question,context)\n",
        "  return ans"
      ],
      "execution_count": null,
      "outputs": []
    },
    {
      "cell_type": "markdown",
      "metadata": {
        "id": "rK1X1LDgg9Tv"
      },
      "source": [
        "# Working Model"
      ]
    },
    {
      "cell_type": "code",
      "metadata": {
        "colab": {
          "base_uri": "https://localhost:8080/",
          "height": 86
        },
        "id": "bPmyOPTCFWcT",
        "outputId": "5fee836f-2025-4597-9c30-ab48e1a5336e"
      },
      "source": [
        "question_answer('Who is considered as the world leader in digital security?')"
      ],
      "execution_count": null,
      "outputs": [
        {
          "output_type": "stream",
          "name": "stdout",
          "text": [
            "\n",
            "Predicted answer:\n",
            "Microsoft\n"
          ]
        },
        {
          "output_type": "execute_result",
          "data": {
            "application/vnd.google.colaboratory.intrinsic+json": {
              "type": "string"
            },
            "text/plain": [
              "'Microsoft'"
            ]
          },
          "metadata": {},
          "execution_count": 20
        }
      ]
    },
    {
      "cell_type": "code",
      "metadata": {
        "colab": {
          "base_uri": "https://localhost:8080/",
          "height": 86
        },
        "id": "d_YmW0wHU-gT",
        "outputId": "b247cae9-698e-4720-8132-35e1f71e8401"
      },
      "source": [
        "question_answer('Who is senior director of security for Adobe products and services?')"
      ],
      "execution_count": null,
      "outputs": [
        {
          "output_type": "stream",
          "name": "stdout",
          "text": [
            "\n",
            "Predicted answer:\n",
            "Brad arkin\n"
          ]
        },
        {
          "output_type": "execute_result",
          "data": {
            "application/vnd.google.colaboratory.intrinsic+json": {
              "type": "string"
            },
            "text/plain": [
              "'Brad arkin'"
            ]
          },
          "metadata": {},
          "execution_count": 21
        }
      ]
    },
    {
      "cell_type": "code",
      "metadata": {
        "colab": {
          "base_uri": "https://localhost:8080/",
          "height": 86
        },
        "id": "ga0XVIaQYcoK",
        "outputId": "b78adcf7-1bc0-41d8-82cc-24a095c35bd9"
      },
      "source": [
        "question_answer('Name the video messaging app for iOS and Android, headquartered in New York which was breached on Feb 25, 2019.')"
      ],
      "execution_count": null,
      "outputs": [
        {
          "output_type": "stream",
          "name": "stdout",
          "text": [
            "\n",
            "Predicted answer:\n",
            "Dubsmash\n"
          ]
        },
        {
          "output_type": "execute_result",
          "data": {
            "application/vnd.google.colaboratory.intrinsic+json": {
              "type": "string"
            },
            "text/plain": [
              "'Dubsmash'"
            ]
          },
          "metadata": {},
          "execution_count": 22
        }
      ]
    },
    {
      "cell_type": "code",
      "metadata": {
        "colab": {
          "base_uri": "https://localhost:8080/",
          "height": 86
        },
        "id": "e19cPh0LaKsL",
        "outputId": "0d880496-0185-430d-9715-6d73f8948f03"
      },
      "source": [
        "question_answer('According to Air Canada, how many out of 1.7 million mobile app users had their personal information compromised?')"
      ],
      "execution_count": null,
      "outputs": [
        {
          "output_type": "stream",
          "name": "stdout",
          "text": [
            "\n",
            "Predicted answer:\n",
            "20 , 000\n"
          ]
        },
        {
          "output_type": "execute_result",
          "data": {
            "application/vnd.google.colaboratory.intrinsic+json": {
              "type": "string"
            },
            "text/plain": [
              "'20 , 000'"
            ]
          },
          "metadata": {},
          "execution_count": 23
        }
      ]
    },
    {
      "cell_type": "code",
      "metadata": {
        "colab": {
          "base_uri": "https://localhost:8080/",
          "height": 86
        },
        "id": "D2svgSIOXG22",
        "outputId": "6bb03147-6f06-40e7-a76b-bd3fefbb1ea5"
      },
      "source": [
        "question_answer('Jason Smathers of Harpers Ferry sold the data to whom?')"
      ],
      "execution_count": null,
      "outputs": [
        {
          "output_type": "stream",
          "name": "stdout",
          "text": [
            "\n",
            "Predicted answer:\n",
            "Sean dunaway\n"
          ]
        },
        {
          "output_type": "execute_result",
          "data": {
            "application/vnd.google.colaboratory.intrinsic+json": {
              "type": "string"
            },
            "text/plain": [
              "'Sean dunaway'"
            ]
          },
          "metadata": {},
          "execution_count": 24
        }
      ]
    },
    {
      "cell_type": "code",
      "metadata": {
        "colab": {
          "base_uri": "https://localhost:8080/",
          "height": 86
        },
        "id": "Xu6OvzxDbx9_",
        "outputId": "1ad45179-864e-49c5-bce7-daa2b936c09a"
      },
      "source": [
        "question_answer('Which campanay has become the latest airline to fall victim to a sophisticated cyberattack?')"
      ],
      "execution_count": null,
      "outputs": [
        {
          "output_type": "stream",
          "name": "stdout",
          "text": [
            "\n",
            "Predicted answer:\n",
            "Easyjet\n"
          ]
        },
        {
          "output_type": "execute_result",
          "data": {
            "application/vnd.google.colaboratory.intrinsic+json": {
              "type": "string"
            },
            "text/plain": [
              "'Easyjet'"
            ]
          },
          "metadata": {},
          "execution_count": 26
        }
      ]
    },
    {
      "cell_type": "code",
      "metadata": {
        "colab": {
          "base_uri": "https://localhost:8080/",
          "height": 123
        },
        "id": "r1mo11tzXorp",
        "outputId": "3d96133b-9cc8-44da-bc6f-bd5ce627a387"
      },
      "source": [
        "question_answer('At Bell canada hackaers illegally accessed that information of how many customers?')"
      ],
      "execution_count": null,
      "outputs": [
        {
          "output_type": "stream",
          "name": "stdout",
          "text": [
            "\n",
            "Predicted answer:\n",
            "Hundreds of millions of indians , diachenko did not find any information that would link it to a specific owner . one analysis of email addresses found in the data dump also shows that some 15 , 000\n"
          ]
        },
        {
          "output_type": "execute_result",
          "data": {
            "application/vnd.google.colaboratory.intrinsic+json": {
              "type": "string"
            },
            "text/plain": [
              "'Hundreds of millions of indians , diachenko did not find any information that would link it to a specific owner . one analysis of email addresses found in the data dump also shows that some 15 , 000'"
            ]
          },
          "metadata": {},
          "execution_count": 25
        }
      ]
    },
    {
      "cell_type": "markdown",
      "metadata": {
        "id": "0d9217Z_mjhn"
      },
      "source": [
        "# Flask"
      ]
    },
    {
      "cell_type": "code",
      "metadata": {
        "colab": {
          "base_uri": "https://localhost:8080/"
        },
        "id": "lc5StQodmjKN",
        "outputId": "a94e78f5-8a83-4a15-905c-2b166f150b4d"
      },
      "source": [
        "!pip install flask-ngrok"
      ],
      "execution_count": null,
      "outputs": [
        {
          "output_type": "stream",
          "name": "stdout",
          "text": [
            "Requirement already satisfied: flask-ngrok in /usr/local/lib/python3.7/dist-packages (0.0.25)\n",
            "Requirement already satisfied: Flask>=0.8 in /usr/local/lib/python3.7/dist-packages (from flask-ngrok) (1.1.4)\n",
            "Requirement already satisfied: requests in /usr/local/lib/python3.7/dist-packages (from flask-ngrok) (2.23.0)\n",
            "Requirement already satisfied: itsdangerous<2.0,>=0.24 in /usr/local/lib/python3.7/dist-packages (from Flask>=0.8->flask-ngrok) (1.1.0)\n",
            "Requirement already satisfied: click<8.0,>=5.1 in /usr/local/lib/python3.7/dist-packages (from Flask>=0.8->flask-ngrok) (7.1.2)\n",
            "Requirement already satisfied: Jinja2<3.0,>=2.10.1 in /usr/local/lib/python3.7/dist-packages (from Flask>=0.8->flask-ngrok) (2.11.3)\n",
            "Requirement already satisfied: Werkzeug<2.0,>=0.15 in /usr/local/lib/python3.7/dist-packages (from Flask>=0.8->flask-ngrok) (1.0.1)\n",
            "Requirement already satisfied: MarkupSafe>=0.23 in /usr/local/lib/python3.7/dist-packages (from Jinja2<3.0,>=2.10.1->Flask>=0.8->flask-ngrok) (2.0.1)\n",
            "Requirement already satisfied: certifi>=2017.4.17 in /usr/local/lib/python3.7/dist-packages (from requests->flask-ngrok) (2021.5.30)\n",
            "Requirement already satisfied: idna<3,>=2.5 in /usr/local/lib/python3.7/dist-packages (from requests->flask-ngrok) (2.10)\n",
            "Requirement already satisfied: chardet<4,>=3.0.2 in /usr/local/lib/python3.7/dist-packages (from requests->flask-ngrok) (3.0.4)\n",
            "Requirement already satisfied: urllib3!=1.25.0,!=1.25.1,<1.26,>=1.21.1 in /usr/local/lib/python3.7/dist-packages (from requests->flask-ngrok) (1.24.3)\n"
          ]
        }
      ]
    },
    {
      "cell_type": "code",
      "metadata": {
        "colab": {
          "base_uri": "https://localhost:8080/"
        },
        "id": "b2Ql1OALtOli",
        "outputId": "9d03fd34-fe97-468a-abf9-79f7be611ee1"
      },
      "source": [
        "!pip install -U flask-cors"
      ],
      "execution_count": null,
      "outputs": [
        {
          "output_type": "stream",
          "name": "stdout",
          "text": [
            "Collecting flask-cors\n",
            "  Downloading Flask_Cors-3.0.10-py2.py3-none-any.whl (14 kB)\n",
            "Requirement already satisfied: Six in /usr/local/lib/python3.7/dist-packages (from flask-cors) (1.15.0)\n",
            "Requirement already satisfied: Flask>=0.9 in /usr/local/lib/python3.7/dist-packages (from flask-cors) (1.1.4)\n",
            "Requirement already satisfied: Werkzeug<2.0,>=0.15 in /usr/local/lib/python3.7/dist-packages (from Flask>=0.9->flask-cors) (1.0.1)\n",
            "Requirement already satisfied: click<8.0,>=5.1 in /usr/local/lib/python3.7/dist-packages (from Flask>=0.9->flask-cors) (7.1.2)\n",
            "Requirement already satisfied: itsdangerous<2.0,>=0.24 in /usr/local/lib/python3.7/dist-packages (from Flask>=0.9->flask-cors) (1.1.0)\n",
            "Requirement already satisfied: Jinja2<3.0,>=2.10.1 in /usr/local/lib/python3.7/dist-packages (from Flask>=0.9->flask-cors) (2.11.3)\n",
            "Requirement already satisfied: MarkupSafe>=0.23 in /usr/local/lib/python3.7/dist-packages (from Jinja2<3.0,>=2.10.1->Flask>=0.9->flask-cors) (2.0.1)\n",
            "Installing collected packages: flask-cors\n",
            "Successfully installed flask-cors-3.0.10\n"
          ]
        }
      ]
    },
    {
      "cell_type": "code",
      "metadata": {
        "colab": {
          "base_uri": "https://localhost:8080/"
        },
        "id": "_sXCaAb-mnjS",
        "outputId": "a69c67a2-4264-46dc-ebd8-d432bd284e1b"
      },
      "source": [
        "from flask import Flask, request, json\n",
        "from flask_ngrok import run_with_ngrok\n",
        "from flask_cors import CORS\n",
        "\n",
        "app = Flask(__name__)\n",
        "CORS(app)\n",
        "run_with_ngrok(app)   \n",
        "  \n",
        "@app.route(\"/\", methods=['Get'])\n",
        "def home():\n",
        "  q = request.args.get(\"q\")\n",
        "  ans = {}\n",
        "  ans['answer'] = question_answer(q);\n",
        "  response = app.response_class(\n",
        "        response=json.dumps(ans),\n",
        "        status=200,\n",
        "        mimetype='application/json'\n",
        "    )\n",
        "  response.headers.add('Access-Control-Allow-Origin', '*')\n",
        "  return response\n",
        "  \n",
        "    \n",
        "app.run()"
      ],
      "execution_count": null,
      "outputs": [
        {
          "metadata": {
            "tags": null
          },
          "name": "stdout",
          "output_type": "stream",
          "text": [
            " * Serving Flask app \"__main__\" (lazy loading)\n",
            " * Environment: production\n",
            "\u001b[31m   WARNING: This is a development server. Do not use it in a production deployment.\u001b[0m\n",
            "\u001b[2m   Use a production WSGI server instead.\u001b[0m\n",
            " * Debug mode: off\n"
          ]
        },
        {
          "metadata": {
            "tags": null
          },
          "name": "stderr",
          "output_type": "stream",
          "text": [
            "INFO:werkzeug: * Running on http://127.0.0.1:5000/ (Press CTRL+C to quit)\n"
          ]
        },
        {
          "metadata": {
            "tags": null
          },
          "name": "stdout",
          "output_type": "stream",
          "text": [
            " * Running on http://cc87-35-237-188-251.ngrok.io\n",
            " * Traffic stats available on http://127.0.0.1:4040\n"
          ]
        },
        {
          "metadata": {
            "tags": null
          },
          "name": "stderr",
          "output_type": "stream",
          "text": [
            "INFO:werkzeug:127.0.0.1 - - [11/Oct/2021 05:50:36] \"\u001b[37mGET /?q=Who+is+senior+director+of+security+for+Adobe+products+and+services%3F HTTP/1.1\u001b[0m\" 200 -\n"
          ]
        },
        {
          "metadata": {
            "tags": null
          },
          "name": "stdout",
          "output_type": "stream",
          "text": [
            "\n",
            "Predicted answer:\n",
            "Brad arkin\n"
          ]
        }
      ]
    },
    {
      "cell_type": "code",
      "metadata": {
        "id": "5GYP4ZrbmrCn"
      },
      "source": [
        ""
      ],
      "execution_count": null,
      "outputs": []
    }
  ]
}